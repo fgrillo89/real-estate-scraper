{
 "cells": [
  {
   "cell_type": "code",
   "execution_count": 2,
   "id": "0948ffb6-9cdc-4d89-bd22-c36a1a6f7a90",
   "metadata": {},
   "outputs": [],
   "source": [
    "from funda_scraper import FundaScraper"
   ]
  },
  {
   "cell_type": "code",
   "execution_count": 3,
   "id": "18ba7f94-b69c-4939-a9e8-b6f7ae9c03a9",
   "metadata": {},
   "outputs": [],
   "source": [
    "scraper = FundaScraper()"
   ]
  },
  {
   "cell_type": "code",
   "execution_count": 5,
   "id": "4eaec0f0-680b-4620-b74f-d4781a09416c",
   "metadata": {},
   "outputs": [
    {
     "name": "stdout",
     "output_type": "stream",
     "text": [
      "Done requesting: https://www.funda.nl/en/koop/Delft/p1\n",
      "Done requesting: https://www.funda.nl/en/koop/Delft/p1\n",
      "Done requesting: https://www.funda.nl/en/koop/Delft/p3\n",
      "Done requesting: https://www.funda.nl/en/koop/Delft/p7\n",
      "Done requesting: https://www.funda.nl/en/koop/Delft/p9\n",
      "Done requesting: https://www.funda.nl/en/koop/Delft/p10\n",
      "Done requesting: https://www.funda.nl/en/koop/Delft/p5\n",
      "Done requesting: https://www.funda.nl/en/koop/Delft/p2\n",
      "Done requesting: https://www.funda.nl/en/koop/Delft/p8\n",
      "Done requesting: https://www.funda.nl/en/koop/Delft/p4\n",
      "Done requesting: https://www.funda.nl/en/koop/Delft/p6\n",
      "Done requesting: https://www.funda.nl/en/koop/Delft/p11\n",
      "Done requesting: https://www.funda.nl/en/koop/Delft/p14\n",
      "Done requesting: https://www.funda.nl/en/koop/Delft/p13\n",
      "Done requesting: https://www.funda.nl/en/koop/Delft/p17\n",
      "Done requesting: https://www.funda.nl/en/koop/Delft/p12\n",
      "Done requesting: https://www.funda.nl/en/koop/Delft/p16\n",
      "Done requesting: https://www.funda.nl/en/koop/Delft/p21\n",
      "Done requesting: https://www.funda.nl/en/koop/Delft/p15\n",
      "Done requesting: https://www.funda.nl/en/koop/Delft/p20\n",
      "Done requesting: https://www.funda.nl/en/koop/Delft/p18\n",
      "Done requesting: https://www.funda.nl/en/koop/Delft/p19\n",
      "Done requesting: https://www.funda.nl/en/koop/Delft/p22\n"
     ]
    }
   ],
   "source": [
    "df_houses = await scraper.scrape_shallow_async(city='Delft')"
   ]
  },
  {
   "cell_type": "code",
   "execution_count": 6,
   "id": "3f80d3a3-d513-4dd0-8c6a-79585dccd247",
   "metadata": {},
   "outputs": [
    {
     "data": {
      "text/html": [
       "<div>\n",
       "<style scoped>\n",
       "    .dataframe tbody tr th:only-of-type {\n",
       "        vertical-align: middle;\n",
       "    }\n",
       "\n",
       "    .dataframe tbody tr th {\n",
       "        vertical-align: top;\n",
       "    }\n",
       "\n",
       "    .dataframe thead th {\n",
       "        text-align: right;\n",
       "    }\n",
       "</style>\n",
       "<table border=\"1\" class=\"dataframe\">\n",
       "  <thead>\n",
       "    <tr style=\"text-align: right;\">\n",
       "      <th></th>\n",
       "      <th>Address</th>\n",
       "      <th>PostCode</th>\n",
       "      <th>LivingArea</th>\n",
       "      <th>PlotSize</th>\n",
       "      <th>Price</th>\n",
       "      <th>Rooms</th>\n",
       "    </tr>\n",
       "  </thead>\n",
       "  <tbody>\n",
       "    <tr>\n",
       "      <th>0</th>\n",
       "      <td>Westerstraat 110</td>\n",
       "      <td>2613 RK Delft</td>\n",
       "      <td>83.0</td>\n",
       "      <td>76.0</td>\n",
       "      <td>375000.0</td>\n",
       "      <td>4.0</td>\n",
       "    </tr>\n",
       "    <tr>\n",
       "      <th>1</th>\n",
       "      <td>Frederik Matthesstraat 2</td>\n",
       "      <td>2613 ZZ Delft</td>\n",
       "      <td>77.0</td>\n",
       "      <td>222.0</td>\n",
       "      <td>535000.0</td>\n",
       "      <td>3.0</td>\n",
       "    </tr>\n",
       "    <tr>\n",
       "      <th>2</th>\n",
       "      <td>De Vriesstraat 58</td>\n",
       "      <td>2613 CC Delft</td>\n",
       "      <td>109.0</td>\n",
       "      <td>95.0</td>\n",
       "      <td>475000.0</td>\n",
       "      <td>4.0</td>\n",
       "    </tr>\n",
       "    <tr>\n",
       "      <th>3</th>\n",
       "      <td>Emiratenstraat 11</td>\n",
       "      <td>2622 KE Delft</td>\n",
       "      <td>117.0</td>\n",
       "      <td>131.0</td>\n",
       "      <td>400000.0</td>\n",
       "      <td>5.0</td>\n",
       "    </tr>\n",
       "    <tr>\n",
       "      <th>4</th>\n",
       "      <td>Laan van Overvest 33</td>\n",
       "      <td>2613 DK Delft</td>\n",
       "      <td>148.0</td>\n",
       "      <td>266.0</td>\n",
       "      <td>875000.0</td>\n",
       "      <td>5.0</td>\n",
       "    </tr>\n",
       "    <tr>\n",
       "      <th>...</th>\n",
       "      <td>...</td>\n",
       "      <td>...</td>\n",
       "      <td>...</td>\n",
       "      <td>...</td>\n",
       "      <td>...</td>\n",
       "      <td>...</td>\n",
       "    </tr>\n",
       "    <tr>\n",
       "      <th>320</th>\n",
       "      <td>Schijflaan 3</td>\n",
       "      <td>2625 KG Delft</td>\n",
       "      <td>NaN</td>\n",
       "      <td>16.0</td>\n",
       "      <td>37500.0</td>\n",
       "      <td>NaN</td>\n",
       "    </tr>\n",
       "    <tr>\n",
       "      <th>321</th>\n",
       "      <td>Raam</td>\n",
       "      <td>2611 WP Delft</td>\n",
       "      <td>NaN</td>\n",
       "      <td>18.0</td>\n",
       "      <td>32500.0</td>\n",
       "      <td>NaN</td>\n",
       "    </tr>\n",
       "    <tr>\n",
       "      <th>322</th>\n",
       "      <td>Engelsestraat 71</td>\n",
       "      <td>2627 AA Delft</td>\n",
       "      <td>85.0</td>\n",
       "      <td>NaN</td>\n",
       "      <td>NaN</td>\n",
       "      <td>3.0</td>\n",
       "    </tr>\n",
       "    <tr>\n",
       "      <th>323</th>\n",
       "      <td>Ecodusweg 67</td>\n",
       "      <td>2614 WS Delft</td>\n",
       "      <td>55.0</td>\n",
       "      <td>NaN</td>\n",
       "      <td>259000.0</td>\n",
       "      <td>2.0</td>\n",
       "    </tr>\n",
       "    <tr>\n",
       "      <th>324</th>\n",
       "      <td>Van Adrichemstraat 231</td>\n",
       "      <td>2614 BN Delft</td>\n",
       "      <td>28.0</td>\n",
       "      <td>NaN</td>\n",
       "      <td>159000.0</td>\n",
       "      <td>1.0</td>\n",
       "    </tr>\n",
       "  </tbody>\n",
       "</table>\n",
       "<p>325 rows × 6 columns</p>\n",
       "</div>"
      ],
      "text/plain": [
       "                      Address       PostCode  LivingArea  PlotSize     Price  Rooms\n",
       "0            Westerstraat 110  2613 RK Delft        83.0      76.0  375000.0    4.0\n",
       "1    Frederik Matthesstraat 2  2613 ZZ Delft        77.0     222.0  535000.0    3.0\n",
       "2           De Vriesstraat 58  2613 CC Delft       109.0      95.0  475000.0    4.0\n",
       "3           Emiratenstraat 11  2622 KE Delft       117.0     131.0  400000.0    5.0\n",
       "4        Laan van Overvest 33  2613 DK Delft       148.0     266.0  875000.0    5.0\n",
       "..                        ...            ...         ...       ...       ...    ...\n",
       "320              Schijflaan 3  2625 KG Delft         NaN      16.0   37500.0    NaN\n",
       "321                      Raam  2611 WP Delft         NaN      18.0   32500.0    NaN\n",
       "322          Engelsestraat 71  2627 AA Delft        85.0       NaN       NaN    3.0\n",
       "323              Ecodusweg 67  2614 WS Delft        55.0       NaN  259000.0    2.0\n",
       "324    Van Adrichemstraat 231  2614 BN Delft        28.0       NaN  159000.0    1.0\n",
       "\n",
       "[325 rows x 6 columns]"
      ]
     },
     "execution_count": 6,
     "metadata": {},
     "output_type": "execute_result"
    }
   ],
   "source": [
    "df_houses"
   ]
  },
  {
   "cell_type": "code",
   "execution_count": 8,
   "id": "4771004b-332c-4be8-ad7b-4df0ade94bd4",
   "metadata": {},
   "outputs": [
    {
     "data": {
      "text/plain": [
       "<AxesSubplot: >"
      ]
     },
     "execution_count": 8,
     "metadata": {},
     "output_type": "execute_result"
    },
    {
     "data": {
      "image/png": "[encoded data removed]",
      "text/plain": [
       "<Figure size 640x480 with 1 Axes>"
      ]
     },
     "metadata": {},
     "output_type": "display_data"
    }
   ],
   "source": [
    "df_houses.Price.hist()"
   ]
  },
  {
   "cell_type": "code",
   "execution_count": null,
   "id": "9f00542e-da03-48dc-8094-74b0a0bf739a",
   "metadata": {},
   "outputs": [],
   "source": []
  }
 ],
 "metadata": {
  "kernelspec": {
   "display_name": "Python 3 (ipykernel)",
   "language": "python",
   "name": "python3"
  },
  "language_info": {
   "codemirror_mode": {
    "name": "ipython",
    "version": 3
   },
   "file_extension": ".py",
   "mimetype": "text/x-python",
   "name": "python",
   "nbconvert_exporter": "python",
   "pygments_lexer": "ipython3",
   "version": "3.10.6"
  }
 },
 "nbformat": 4,
 "nbformat_minor": 5
}
