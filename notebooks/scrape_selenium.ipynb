{
 "cells": [
  {
   "cell_type": "code",
   "execution_count": 2,
   "id": "6b6cead0-c0b5-4c2a-a3ea-3813507ffeba",
   "metadata": {},
   "outputs": [],
   "source": [
    "#imports here\n",
    "from selenium import webdriver\n",
    "from selenium.webdriver.common.keys import Keys\n",
    "from selenium.webdriver.support import expected_conditions as EC\n",
    "from selenium.webdriver.common.by import By\n",
    "from selenium.webdriver.support.wait import WebDriverWait\n",
    "import time"
   ]
  },
  {
   "cell_type": "code",
   "execution_count": 24,
   "id": "eb48f052-ad01-44d0-a4e3-2a47c514aff4",
   "metadata": {},
   "outputs": [
    {
     "name": "stderr",
     "output_type": "stream",
     "text": [
      "[WDM] - Downloading: 100%|████████████████████████████████████████████████████████| 6.29M/6.29M [00:00<00:00, 10.0MB/s]\n"
     ]
    }
   ],
   "source": [
    "from selenium.webdriver.chrome.service import Service\n",
    "from webdriver_manager.chrome import ChromeDriverManager\n",
    "\n",
    "# driver = webdriver.Chrome(service=Service(ChromeDriverManager().install()))\n",
    "# driver.get(\"https://www.google.com\")"
   ]
  },
  {
   "cell_type": "code",
   "execution_count": 4,
   "id": "185bee49-2f0c-4fa1-8bcc-8e2c784ceb87",
   "metadata": {},
   "outputs": [],
   "source": [
    "from pathlib import Path"
   ]
  },
  {
   "cell_type": "code",
   "execution_count": 26,
   "id": "fe8ab5d7-16e1-4f8b-b0fa-be35a2659fe1",
   "metadata": {},
   "outputs": [],
   "source": [
    "driver_path = (Path.cwd() / 'chromedriver.exe').absolute()"
   ]
  },
  {
   "cell_type": "code",
   "execution_count": 49,
   "id": "6a12ee25-8d86-4082-862f-ea2764e1244e",
   "metadata": {},
   "outputs": [
    {
     "name": "stderr",
     "output_type": "stream",
     "text": [
      "D:\\Users\\Fabio\\Anaconda3\\lib\\site-packages\\ipykernel_launcher.py:2: DeprecationWarning: executable_path has been deprecated, please pass in a Service object\n",
      "  \n"
     ]
    }
   ],
   "source": [
    "#specify the path to chromedriver.exe (download and save on your computer)\n",
    "driver = webdriver.Chrome(f\"{driver_path}\")"
   ]
  },
  {
   "cell_type": "code",
   "execution_count": 47,
   "id": "5d30ec08-feec-440b-8f04-54b50227a80f",
   "metadata": {},
   "outputs": [],
   "source": [
    "url = \"https://www.pararius.nl/koopwoningen/rotterdam\""
   ]
  },
  {
   "cell_type": "code",
   "execution_count": 50,
   "id": "19c5fce4-6834-40ab-9410-7fcf47d0b6c9",
   "metadata": {},
   "outputs": [],
   "source": [
    "page = driver.get(url)"
   ]
  },
  {
   "cell_type": "code",
   "execution_count": 45,
   "id": "13714af9-3e9c-4ee2-a5a1-d54ef4653022",
   "metadata": {},
   "outputs": [
    {
     "data": {
      "text/plain": [
       "<selenium.webdriver.remote.webelement.WebElement (session=\"c2170cb1f6da7b8656545161a0d2ee14\", element=\"1d3fcb87-b5a5-422e-85ae-f8f74c31c892\")>"
      ]
     },
     "execution_count": 45,
     "metadata": {},
     "output_type": "execute_result"
    }
   ],
   "source": [
    "driver.find_element(By.ID, \"onetrust-accept-btn-handler\").send_keys()"
   ]
  },
  {
   "cell_type": "code",
   "execution_count": 46,
   "id": "8dba51bf-41f7-48db-b035-891dcaaa67f0",
   "metadata": {},
   "outputs": [],
   "source": [
    "WebDriverWait(driver, 10).until(EC.element_to_be_clickable((By.XPATH,'//*[@id=\"onetrust-accept-btn-handler\"]'))).click()"
   ]
  },
  {
   "cell_type": "code",
   "execution_count": null,
   "id": "6ef5a330-f5d5-4632-980e-9ec5ad5ed01b",
   "metadata": {},
   "outputs": [],
   "source": [
    "<button id=\"onetrust-accept-btn-handler\">Accepteer alle cookies</button>"
   ]
  },
  {
   "cell_type": "code",
   "execution_count": 51,
   "id": "b3e84c43-a0a0-4701-a70b-19fc021b872e",
   "metadata": {},
   "outputs": [],
   "source": [
    "html = driver.page_source"
   ]
  },
  {
   "cell_type": "code",
   "execution_count": 58,
   "id": "a91424e0-8bf2-413d-b09e-fa5cc0211594",
   "metadata": {},
   "outputs": [
    {
     "data": {
      "text/plain": [
       "'<html><head>\\n\\t<style>\\n\\n\\t<link rel=\"preconnect\" href=\"https://fonts.gstatic.com\">\\n\\t<link href=\"https://fonts.googleapis.com/css2?family=Noto+Serif&display=swap\" rel=\"stylesheet\">\\n\\t<style>\\n\\tbody{\\n\\t\\tfont-family: \\'Noto Serif\\', serif;\\n\\t\\tbackground-color: white;\\n\\t}\\n\\tnoscript {\\n\\t\\tcolor: red;\\n\\t}\\n\\t.header {\\n\\t\\tfont-size: 16px;\\n\\t}\\n\\t.footer {\\n\\t\\tfont-size: 16px;\\n\\t}\\n\\t.text-box{\\n\\t\\tcolor: black;\\n\\t\\tpadding: 15px 32px;\\n\\t\\ttext-align: center;\\n\\t\\ttext-decoration: none;\\n\\t\\tdisplay: inline-block;\\n\\t\\tmargin: 4px 2px;\\n\\t\\tdisplay: flex;\\n\\t\\tflex-direction: column;\\n\\t\\tjustify-content: center;\\n\\t\\talign-items: center;\\n\\t}\\n\\t.logo {\\n\\t\\tbackground-color: white;\\n\\t}\\n\\tbutton {\\n\\t\\tbackground-color: #123356;\\n\\t\\tborder: none;\\n\\t\\tcolor: white;\\n\\t\\tpadding: 15px 32px;\\n\\t\\ttext-align: center;\\n\\t\\ttext-decoration: none;\\n\\t\\tdisplay: inline-block;\\n\\t\\tfont-size: 16px;\\n\\t\\tcursor: pointer;\\n\\t\\tmargin-top: -25px;\\n\\t}\\n\\t@media only screen and (max-device-width: 480px) {\\n\\t.text-box{\\n\\t\\tfont-size: 20px;\\n\\t}\\n\\tbutton {\\n\\t\\tfont-size: 20px;\\n\\t}\\n\\t}\\n\\t</style>\\n\\t<meta http-equiv=\"Cache-control\" content=\"no-cache\">\\n\\t<meta http-equiv=\"cache-control\" content=\"max-age=0\">\\n\\t<meta http-equiv=\"cache-control\" content=\"no-cache\">\\n\\t<meta http-equiv=\"expires\" content=\"-1\">\\n\\t<meta http-equiv=\"expires\" content=\"Tue, 01 Jan 1980 11:00:00 GMT\">\\n\\t<meta http-equiv=\"pragma\" content=\"no-cache\">\\n</head>\\n<body>\\n<div class=\"text-box\">\\n\\t\\t\\t<noscript>\\n\\t\\t\\t\\t<h1> This page requires JavaScript. Please enable JavaScript and refresh this page. </h1>\\n\\t\\t\\t</noscript>\\n\\t<img src=\"https://storage.googleapis.com/static.fairlane.cloud/FAIRLANE_LOGO_WOORD_DEF.png\" style=\"width:200px;\">\\n\\t<p class=\"header\">\\n\\t\\tAs you were using this website, something about your browser or behavior made us think you might be a bot. <br>\\n\\t\\tSolve the captcha below to continue browsing the site.\\n\\t</p>\\n\\t\\n\\t<div id=\"_csnl_cp\"><p> One of the following images is upside down. <b> Please select the upside down image </b> <br></p><div style=\"background-color: #fff; padding: 20px;\"><img class=\"csnl_cp_img\" id=\"0\" src=\"data:image/png;base64,iVBORw0KGgoAAAANSUhEUgAAAK0AAACtCAYAAADCr/9DAAADA0lEQVR4nOzcQWqjdRyH8cmb1kmntenQiZTpqOBmxK0bwQuIC3HlejZuPYBHELzNLN15Cc8gIjoWQZBU8AJiad5/n+TzucDvu3jCm4SQo83zH356BCHT6AHwf4mWHNGSI1pyREuOaMkRLTmiJUe05IiWHNGSI1pyREuOaMkRLTmiJUe05IiWHNGSI1pyREuOaMkRLTmiJUe05IiWHNGSI1pyREuOaMkRLTmiJUe05IiWHNGSI1pyREuOaMkRLTmiJUe05IiWHNGSI1pyREuOaMkRLTmiJUe05IiWHNGSI1pyREuOaMkRLTmiJUe05ByNHvBfVtM0vXh8fHy2XPz7Avtze7u9+Xu7Hb2LcR5ctBdHy+Wr66eXH56erEZv4WF6MNF+dLpaffP+5p3RO3j4hkd7vpyW3728vh69g46h0X6yfnL66vrycuQGeoZF++Vmvf5sc74edZ+uIV95fbE5Fyx3Nnu0H7998uTzzVqw3Nms0Z5M0/T1u8+ezXmT/TNrtN+/fP5iznvsp9mifW91/Na0WMx1jj02W7TffnB1Ndct9tss0T5eLPwwh3szS0xfXV1czHGHwzBLtJ8+PTub4w6HwWObHNGSs/NoV5MPYdyvnQd1upxEy73aeVDb20e3u77BYdl5tH9tb0XLvfLoJke05IiWHNGSI1pyREuOaMkRLTmiJUe05IiWHNGSI1pyREuOaMkZ/qfKI7z++fffRm/g7g4u2h9/vfnj9S9v3ozewd15e0COaMkRLTmiJUe05IiWHNGSI1pyREuOaMkRLTmiJUe05IiWHNGSI1pyREuOaMkRLTmiJUe05IiWHNGSI1pyREuOaMkRLTmiJUe05IiWHNGSI1pyREuOaMkRLTmiJUe05IiWHNGSI1pyREuOaMkRLTmiJUe05IiWHNGSI1pyREuOaMkRLTmiJUe05IiWHNGSI1pyREuOaMkRLTmiJUe05IiWHNGSI1pyREuOaMkRLTmiJUe05IiWHNGSI1pyREuOaMkRLTmiJUe05PwTAAD//19mJ2FN8mcYAAAAAElFTkSuQmCC\">\\n<img class=\"csnl_cp_img\" id=\"1\" src=\"data:image/png;base64,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\">\\n<img class=\"csnl_cp_img\" id=\"2\" src=\"data:image/png;base64,iVBORw0KGgoAAAANSUhEUgAAAK0AAACtCAYAAADCr/9DAAAGtUlEQVR4nOzczW8cZx3A8ed1Zt+82Rev1/E6cfzSxAUhAeIQkl4QHHvriXKuWoQ4I/4ekEAVFCFVcEHABbVwo4c0Qc0h0CClNfY6jtf27rygERdAvNTe3Zn9zX4/0iRRZOn5Wf7q0Tyz3nW9jV89VIAgpugBgMsiWohDtBCHaCEO0UIcooU4RAtxiBbiEC3EIVqIQ7QQh2ghDtFCHKKFOEQLcYgW4hAtxCFaiEO0EIdoIQ7RQhyihThEC3GIFuIQLcQhWohDtBCHaCEO0UIcooU4RAtxiBbiEC3EIVqIQ7QQh2ghDtFCHKKFOEQLcYgW4hAtxCFaiEO0EIdoIQ7RQhyihThEC3GIFuIQLcQhWohDtBCHaCEO0UIcooU4RAtxiBbiEC3EcRuB90UPgcUQpSo9iePkLEmSomf5X/RPv/FoVPQQWCxRkqbP4yh5cja5+ODk7OyPJ+dnowUK2RU9ABaPM1p3jLcd72tfatZqSZqqD07ORz/75Hj4bDyJCp+v6AGw+IzW6ovNau0LK2HtveHoxTvPjodF7rwcxPCZWW3UK+1G4/s7a+v9wBe24REtLq0XePe97bX1/VpYKWJ9osWV1Kwx373Z6+1UgiDvtYkWV2aN1m/c6Paa1tg81yVaTKXtnX1zs7uqU6XzWpNoMbXdeiW816rX8lqPaDETr641r1mdz25LtJiJtnfua+2VRh5rES1m5qutWj2PdYgWMzMIfdD1du4vOhAtZkdr9eWVWnXeyxAtZmqvHobzXoNoMVNtx+0BhGn7+b86RrSYqYa1dt7Pa4kWM6W1Vj77Y46IFuIQLcQhWohDtBCHaCEO0UIcooU4RAtxiBbiEC3EIVqIQ7QQh2ghDtFCHKKFOEQLcdy7nxwPix4C03l17Vqr6Bny5N49eP686CEwnZa37pV2I5dPd1kE3B5AHKKFOEQLcYgW4hAtxCFaiEO0EIdoIQ7RQhyihThEC3GIFuIQLcQhWohDtBCHaCEO0UIcooU4RAtxiBbiEC3EIVqIQ7QQh2ghDtFCHKKFOEQLcYgW4hAtxCFaiEO0EIdoIQ7RQhyihThEC3GIFuIQLcQhWohDtBCHaCEO0UIcooU4rugBFlGlok2lorVzSlunlbVKG6OVy/62SiWxUpNIpXGUqiRO0+zf44lKz0ZJmiQqLXr+sluKaLP4rl0zttk0ptnUttm0prGi7cqKNrWqNmFVm2pV6zDUJgy01vpq62S1nl+o5GwUp6PTNBmdqnh4nCRHh3F08GkSH/wtiYbDLHlMozTR1uvGdFe163atbXeMbbeM7bSNa3WMzcLMY4as9WqoTDW0qtNWVinl//1rJpM0ffYsjj7+OB7/+Uk8efIkHo9GSZLHfGUhLtpqVZv1dev6fePW1pzr9Yzr9oyrVvIJc1rea7256Xx23b37j//79CCO/vRocvHgQXT+16fxpOgZF91CR9vpaDcYeLcxML7ft763Zl2jLiPOy+itWpdd9++r+tEwjj98EJ3/4f3x6Pg5txL/ycJE22obuzlw/vqG8dc3rM92Uym75yy1W9beu2frd+8G9Q8fRufv/W58+vRpxO77TwqJNjuNDzat37rp/eCGCQYD58u4g07DGK0+/zlfya6PPppc/PIXZyeHh2lU9FyLIJdos0PS9i0b3Nhyweam9f1166xRVzyjL5+9PR9++zs++P3756Pf/ubiRRQt92O1uURbqxuzs+2CW9s2uLllg9VV6yh0Os4qff9+pb63FwQ//tHpcJkfnc0k2mpNm90dT6Q56PeNf+PNRvedn4yGjx9H46LnKcKVojVG6a0t53f3bLi764PsZH/VB/K4vFpVm9e/Veu8/fbo6NHD6KLoefL2maPtdI27c9sHO7s2vHHTBWFApkXKDmqvvVZv/fAHL47Ukj1b+K/RZif8nR0X3L7jw2xHbbeszXc0/D/eK/3N1+vtw5/rpbq//Zdos1P+/ssufOm2q2zfckHAbrrwKhWt979uKurXRU+SH9dft25/31Vuv+TD6xvcm0rU3tA2uJOYF4/MUuy47q23GqtFD4HpNb+S2NPHOkkjXfpnuLwKVRIm0Kq2ky7Fz3MpvsllUX+ZaCFM0FE6u4qeY96ItmSC9aT0P9PSf4PLJuiz00KYoJcSLWQxIdFCGOO00q7c4RJtCdlK0RPMF9GWUFryN6QTbQmlJf9VRaItmTRVKin52x+JtmSScapUWu5fmiHakpkclTtYRbTlEx0SLYSZHJX/MxGItmQmB6bkD7yItlSikUrHh+y0EOTiL+W/n838PQAA//8KXU4PxsDVUgAAAABJRU5ErkJg\">\\n<br><img class=\"csnl_cp_img\" id=\"3\" src=\"data:image/png;base64,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\">\\n<img class=\"csnl_cp_img\" id=\"4\" src=\"data:image/png;base64,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\">\\n<img class=\"csnl_cp_img\" id=\"5\" src=\"data:image/png;base64,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\">\\n<br><img class=\"csnl_cp_img\" id=\"6\" src=\"data:image/png;base64,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\">\\n<img class=\"csnl_cp_img\" id=\"7\" src=\"data:image/png;base64,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\">\\n<img class=\"csnl_cp_img\" id=\"8\" src=\"data:image/png;base64,iVBORw0KGgoAAAANSUhEUgAAAK0AAACtCAYAAADCr/9DAAADT0lEQVR4nOzZPW5cZRuA4fEnl24c6SuCYCdZShbBZiJqtoBEw09BBw0KXUQRBAkIiDFhxozH83MOAikookggmTP2Dde1gPM8I90anfO+x/9/46MHM9Lu3j69def05OS693jm7QePH6+GcZjq+f+b6sEwFdGSI1pyREuOaMkRLTmiJUe05IiWHNGSI1pyREuOaMkRLTmiJUe05IiWHNGSI1pyREuOaMkRLTmiJUe05IiWHNGSI1pyREuOaMkRLTmiJUe05IiWHNGSI1pyREuOaMkRLTmiJUe05IiWHNGSI1pyREuOaMkRLTmiJUe05IiWHNGSI1pyREuOaMkRLTmiJUe05IiWHNGSI1pyREuOaMkRLTmiJUe05IiWHNGSI1pyREuOaMkRLTmiJUe05IiWHNGSI1pyREuOaMkRLTmiJUe05IiWHNGSI1pyREuOaMkRLTmiJUe05IiWHNGSI1pyREuOaMkRLTmiJUe05IiWHNGSI1pyREuOaMkRLTmiJUe05IiWHNGSI1pyREuOaMkRLTmiJUe05BzfvX1667qX4PXcOT05ue4dDun4v/aD6fN6QI5oyREtOaIlR7TkiJYc0ZIjWnJES45oyREtOaIlR7TkiJYc0ZIjWnJEy36N42wzjuOUI0TLXi2HcdiNM9HSsdjudlPPEC17tdjuhqlniJa9eni5vpp6hmjZqy8Wq8upZ4iWvVlsdsPD5Wo99RzRsjefzZcX49HRpCcHM9GyL8vdMLz/ZD4/xCzRshcfnM3nl8Mw+cnBTLTsw1fL9dWH54vFoeaJltfy03q7vffoydnUt2DPEy2v7PfXgXvfnD252A2T34I97/iQw/j3+P5qs3nn0dnZD+vt5tCzRcs/9vl8uXz32/Pzq3E8yIfXX4mWv+271Xrz3o+/PL1/Mf2t14uIlhcaxnH29eXm6pOfFxefPv11OTvA5cHLiJY/jeM4W+x2u/P1sD3fbncPLlar+4vLy/mzD62jo+te8Q9Hb7358ZfXvQQ3w2Y3jrujwx1dvarj1XA9L9PcQDfjj/SlnNOSI1pyREuOaMkRLTmiJUe05IiWHNGSI1pyREuOaMkRLTmiJUe05IiWHNGSI1pyREuOaMkRLTmiJee3AAAA///JC7d2o5PSbgAAAABJRU5ErkJg\">\\n<br></div></div>\\n\\t<form method=\"post\" id=\"_csnl_cp_form\">\\n\\t</form>\\n\\t<button id=\"submit_csnl_cp\" class=\"button\" onclick=\"submit()\"> Submit </button>\\n\\t<button id=\"_csnl_cp_submit\" style=\"display: none;\"> Submit </button>\\n\\t<p class=\"footer\">\\n\\tContact us at unblockrequest@fairlane.company If you are having any issues.<br>\\n\\tPlease mention your reference ID: \"48ae0c75-82f7-aeda-7e4c-c29918673bd2\"</p></div>\\n\\t<p></p>\\n\\t<script>\\n\\tif(!navigator.cookieEnabled) {\\n\\t\\tdocument.getElementById(\"_csnl_cp\").innerHTML += `<h3 style=\\'color: red;\\'> Please enable cookies and refresh this page. </h3>`\\n\\t}\\n\\t</script>\\n<p></p>\\n\\t<script src=\"/cgi-bin/fl/static/captcha/submit.js?v=51905f0e\"></script>\\n\\t<script src=\"/cgi-bin/fl/remote/captcha/puzzle/main.js?v=51905f0e\"></script>\\n\\n</body></html>'"
      ]
     },
     "execution_count": 58,
     "metadata": {},
     "output_type": "execute_result"
    }
   ],
   "source": [
    "import asyncio\n",
    "from pyppeteer import launch\n",
    "\n",
    "async def main():\n",
    "    browser = await launch()\n",
    "    page = await browser.newPage()\n",
    "    await page.goto(url)\n",
    "    await page.screenshot({'path': 'example.png'})\n",
    "    co = await page.content()\n",
    "    await browser.close()\n",
    "    return co\n",
    "\n",
    "await main()"
   ]
  },
  {
   "cell_type": "code",
   "execution_count": null,
   "id": "53365413-2b04-4c86-bb92-240121d0917e",
   "metadata": {},
   "outputs": [],
   "source": []
  }
 ],
 "metadata": {
  "kernelspec": {
   "display_name": "Python 3 (ipykernel)",
   "language": "python",
   "name": "python3"
  },
  "language_info": {
   "codemirror_mode": {
    "name": "ipython",
    "version": 3
   },
   "file_extension": ".py",
   "mimetype": "text/x-python",
   "name": "python",
   "nbconvert_exporter": "python",
   "pygments_lexer": "ipython3",
   "version": "3.7.13"
  }
 },
 "nbformat": 4,
 "nbformat_minor": 5
}
