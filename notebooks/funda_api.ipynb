{
 "cells": [
  {
   "cell_type": "code",
   "execution_count": 1,
   "metadata": {},
   "outputs": [],
   "source": [
    "import requests\n",
    "from bs4 import BeautifulSoup\n",
    "import lxml\n",
    "url = \"https://www.funda.nl/koop/rotterdam/p3\"\n",
    "\n",
    "headers = {\n",
    "    \"authority\": \"www.funda.nl\",\n",
    "    \"accept\": \"*/*\",\n",
    "    \"accept-language\": \"en-US,en;q=0.9,nl;q=0.8,it;q=0.7\",\n",
    "    \"content-type\": \"application/x-www-form-urlencoded; charset=UTF-8\",\n",
    "    \"origin\": \"https://www.funda.nl\",\n",
    "    \"referer\": \"https://www.funda.nl/koop/rotterdam/\",\n",
    "    \"sec-ch-ua\": \"'Chromium';v='106', 'Google Chrome';v='106', 'Not;A=Brand';v='99'\",\n",
    "    \"sec-ch-ua-mobile\": \"?0\",\n",
    "    \"sec-ch-ua-platform\": \"Windows\",\n",
    "    \"sec-fetch-dest\": \"empty\",\n",
    "    \"sec-fetch-mode\": \"cors\",\n",
    "    \"sec-fetch-site\": \"same-origin\",\n",
    "    \"user-agent\": \"Mozilla/5.0 (Windows NT 10.0; Win64; x64) AppleWebKit/537.36 (KHTML, like Gecko) Chrome/106.0.0.0 Safari/537.36\",\n",
    "    \"x-requested-with\": \"XMLHttpRequest\"\n",
    "}\n",
    "\n",
    "response = requests.request(\"GET\", url, headers=headers)\n",
    "\n"
   ]
  },
  {
   "cell_type": "code",
   "execution_count": 2,
   "metadata": {},
   "outputs": [],
   "source": [
    "url = \"https://www.funda.nl/koop/rotterdam/p{}\""
   ]
  },
  {
   "cell_type": "code",
   "execution_count": 20,
   "metadata": {},
   "outputs": [],
   "source": [
    "def get_html_synch(url):\n",
    "    response = requests.request(\"GET\", url, headers=headers)\n",
    "    print(url)\n",
    "    return response.text"
   ]
  },
  {
   "cell_type": "code",
   "execution_count": 30,
   "metadata": {},
   "outputs": [],
   "source": [
    "def prices_from_html_synch(html):\n",
    "    soup = BeautifulSoup(html, 'lxml')\n",
    "    return [res.text for res in soup.find_all(\"span\", class_=\"search-result-price\")]"
   ]
  },
  {
   "cell_type": "code",
   "execution_count": 5,
   "metadata": {},
   "outputs": [],
   "source": [
    "import asyncio"
   ]
  },
  {
   "cell_type": "code",
   "execution_count": null,
   "metadata": {},
   "outputs": [],
   "source": []
  },
  {
   "cell_type": "code",
   "execution_count": 6,
   "metadata": {},
   "outputs": [],
   "source": [
    "async def get_html(url):\n",
    "    return await asyncio.to_thread(get_html_synch, url)"
   ]
  },
  {
   "cell_type": "code",
   "execution_count": 31,
   "metadata": {},
   "outputs": [],
   "source": [
    "async def prices_from_html(html):\n",
    "    return await asyncio.to_thread(prices_from_html_synch, html)"
   ]
  },
  {
   "cell_type": "code",
   "execution_count": 33,
   "metadata": {},
   "outputs": [],
   "source": [
    "async def get_prices_from_url(url, max_pp):\n",
    "    htmls = await asyncio.gather(*(get_html(url.format(i)) for i in range(1, max_pp + 1)))\n",
    "    prices = await asyncio.gather(*(prices_from_html(html) for html in htmls))\n",
    "    return prices"
   ]
  },
  {
   "cell_type": "code",
   "execution_count": 19,
   "metadata": {},
   "outputs": [],
   "source": [
    "async def main_html(max_pp):\n",
    "    return await asyncio.gather(*(get_html(url.format(i)) for i in range(1, max_pp + 1)))"
   ]
  },
  {
   "cell_type": "code",
   "execution_count": 41,
   "metadata": {},
   "outputs": [],
   "source": [
    "from pipe import traverse, select, sort, where\n",
    "from matplotlib import pyplot as plt"
   ]
  },
  {
   "cell_type": "code",
   "execution_count": 11,
   "metadata": {},
   "outputs": [],
   "source": [
    "import re\n",
    "# print(re.findall('\\d+', 'xyz123abc456def789'))\n",
    "soup = BeautifulSoup(response.text)\n",
    "pp=soup.find(\"div\",class_=\"pagination-pages\")\n"
   ]
  },
  {
   "cell_type": "code",
   "execution_count": 12,
   "metadata": {},
   "outputs": [
    {
     "name": "stdout",
     "output_type": "stream",
     "text": [
      "155\n"
     ]
    }
   ],
   "source": [
    "max_num_pages = list(pp \n",
    "                     | select(lambda x: re.findall('\\d+', x.text))\n",
    "                     | traverse \n",
    "                     | select(lambda x: int(x)) \n",
    "                     | sort(reverse=True)\n",
    "                    )[0]\n",
    "print(max_num_pages)"
   ]
  },
  {
   "cell_type": "code",
   "execution_count": 13,
   "metadata": {},
   "outputs": [
    {
     "name": "stdout",
     "output_type": "stream",
     "text": [
      "https://www.funda.nl/koop/rotterdam/p1\n",
      "https://www.funda.nl/koop/rotterdam/p11\n",
      "https://www.funda.nl/koop/rotterdam/p7\n",
      "https://www.funda.nl/koop/rotterdam/p9\n",
      "https://www.funda.nl/koop/rotterdam/p10\n",
      "https://www.funda.nl/koop/rotterdam/p18\n",
      "https://www.funda.nl/koop/rotterdam/p3\n",
      "https://www.funda.nl/koop/rotterdam/p2\n",
      "https://www.funda.nl/koop/rotterdam/p17\n",
      "https://www.funda.nl/koop/rotterdam/p6\n",
      "https://www.funda.nl/koop/rotterdam/p13\n",
      "https://www.funda.nl/koop/rotterdam/p4\n",
      "https://www.funda.nl/koop/rotterdam/p15\n",
      "https://www.funda.nl/koop/rotterdam/p5\n",
      "https://www.funda.nl/koop/rotterdam/p19\n",
      "https://www.funda.nl/koop/rotterdam/p16\n",
      "https://www.funda.nl/koop/rotterdam/p21\n",
      "https://www.funda.nl/koop/rotterdam/p8\n",
      "https://www.funda.nl/koop/rotterdam/p12\n",
      "https://www.funda.nl/koop/rotterdam/p14\n",
      "https://www.funda.nl/koop/rotterdam/p26\n",
      "https://www.funda.nl/koop/rotterdam/p24\n",
      "https://www.funda.nl/koop/rotterdam/p23\n",
      "https://www.funda.nl/koop/rotterdam/p20\n",
      "https://www.funda.nl/koop/rotterdam/p25\n",
      "https://www.funda.nl/koop/rotterdam/p33\n",
      "https://www.funda.nl/koop/rotterdam/p22\n",
      "https://www.funda.nl/koop/rotterdam/p29\n",
      "https://www.funda.nl/koop/rotterdam/p31\n",
      "https://www.funda.nl/koop/rotterdam/p28\n",
      "https://www.funda.nl/koop/rotterdam/p32\n",
      "https://www.funda.nl/koop/rotterdam/p27\n",
      "https://www.funda.nl/koop/rotterdam/p30\n",
      "https://www.funda.nl/koop/rotterdam/p35\n",
      "https://www.funda.nl/koop/rotterdam/p39\n",
      "https://www.funda.nl/koop/rotterdam/p38\n",
      "https://www.funda.nl/koop/rotterdam/p37\n",
      "https://www.funda.nl/koop/rotterdam/p40\n",
      "https://www.funda.nl/koop/rotterdam/p41\n",
      "https://www.funda.nl/koop/rotterdam/p34\n",
      "https://www.funda.nl/koop/rotterdam/p42\n",
      "https://www.funda.nl/koop/rotterdam/p43\n",
      "https://www.funda.nl/koop/rotterdam/p44\n",
      "https://www.funda.nl/koop/rotterdam/p36\n",
      "https://www.funda.nl/koop/rotterdam/p47\n",
      "https://www.funda.nl/koop/rotterdam/p45\n",
      "https://www.funda.nl/koop/rotterdam/p46\n",
      "https://www.funda.nl/koop/rotterdam/p50\n",
      "https://www.funda.nl/koop/rotterdam/p49\n",
      "https://www.funda.nl/koop/rotterdam/p51\n",
      "https://www.funda.nl/koop/rotterdam/p53\n",
      "https://www.funda.nl/koop/rotterdam/p55\n",
      "https://www.funda.nl/koop/rotterdam/p56\n",
      "https://www.funda.nl/koop/rotterdam/p54\n",
      "https://www.funda.nl/koop/rotterdam/p52\n",
      "https://www.funda.nl/koop/rotterdam/p48\n",
      "https://www.funda.nl/koop/rotterdam/p58\n",
      "https://www.funda.nl/koop/rotterdam/p57\n",
      "https://www.funda.nl/koop/rotterdam/p59\n",
      "https://www.funda.nl/koop/rotterdam/p62\n",
      "https://www.funda.nl/koop/rotterdam/p64\n",
      "https://www.funda.nl/koop/rotterdam/p61\n",
      "https://www.funda.nl/koop/rotterdam/p60\n",
      "https://www.funda.nl/koop/rotterdam/p65\n",
      "https://www.funda.nl/koop/rotterdam/p69\n",
      "https://www.funda.nl/koop/rotterdam/p66\n",
      "https://www.funda.nl/koop/rotterdam/p70\n",
      "https://www.funda.nl/koop/rotterdam/p67\n",
      "https://www.funda.nl/koop/rotterdam/p63\n",
      "https://www.funda.nl/koop/rotterdam/p71\n",
      "https://www.funda.nl/koop/rotterdam/p73\n",
      "https://www.funda.nl/koop/rotterdam/p75\n",
      "https://www.funda.nl/koop/rotterdam/p72\n",
      "https://www.funda.nl/koop/rotterdam/p77\n",
      "https://www.funda.nl/koop/rotterdam/p79\n",
      "https://www.funda.nl/koop/rotterdam/p78\n",
      "https://www.funda.nl/koop/rotterdam/p68\n",
      "https://www.funda.nl/koop/rotterdam/p74\n",
      "https://www.funda.nl/koop/rotterdam/p76\n",
      "https://www.funda.nl/koop/rotterdam/p81\n",
      "https://www.funda.nl/koop/rotterdam/p80\n",
      "https://www.funda.nl/koop/rotterdam/p85\n",
      "https://www.funda.nl/koop/rotterdam/p89\n",
      "https://www.funda.nl/koop/rotterdam/p86\n",
      "https://www.funda.nl/koop/rotterdam/p83\n",
      "https://www.funda.nl/koop/rotterdam/p91\n",
      "https://www.funda.nl/koop/rotterdam/p84\n",
      "https://www.funda.nl/koop/rotterdam/p88\n",
      "https://www.funda.nl/koop/rotterdam/p93\n",
      "https://www.funda.nl/koop/rotterdam/p90\n",
      "https://www.funda.nl/koop/rotterdam/p92\n",
      "https://www.funda.nl/koop/rotterdam/p98\n",
      "https://www.funda.nl/koop/rotterdam/p96\n",
      "https://www.funda.nl/koop/rotterdam/p100\n",
      "https://www.funda.nl/koop/rotterdam/p99\n",
      "https://www.funda.nl/koop/rotterdam/p94\n",
      "https://www.funda.nl/koop/rotterdam/p97\n",
      "https://www.funda.nl/koop/rotterdam/p82\n",
      "https://www.funda.nl/koop/rotterdam/p95\n",
      "https://www.funda.nl/koop/rotterdam/p102\n",
      "https://www.funda.nl/koop/rotterdam/p101\n",
      "https://www.funda.nl/koop/rotterdam/p106\n",
      "https://www.funda.nl/koop/rotterdam/p103\n",
      "https://www.funda.nl/koop/rotterdam/p104\n",
      "https://www.funda.nl/koop/rotterdam/p105\n",
      "https://www.funda.nl/koop/rotterdam/p108\n",
      "https://www.funda.nl/koop/rotterdam/p107\n",
      "https://www.funda.nl/koop/rotterdam/p87\n",
      "https://www.funda.nl/koop/rotterdam/p112\n",
      "https://www.funda.nl/koop/rotterdam/p113\n",
      "https://www.funda.nl/koop/rotterdam/p109\n",
      "https://www.funda.nl/koop/rotterdam/p111\n",
      "https://www.funda.nl/koop/rotterdam/p135\n",
      "https://www.funda.nl/koop/rotterdam/p110\n",
      "https://www.funda.nl/koop/rotterdam/p115\n",
      "https://www.funda.nl/koop/rotterdam/p120\n",
      "https://www.funda.nl/koop/rotterdam/p117\n",
      "https://www.funda.nl/koop/rotterdam/p119\n",
      "https://www.funda.nl/koop/rotterdam/p121\n",
      "https://www.funda.nl/koop/rotterdam/p114\n",
      "https://www.funda.nl/koop/rotterdam/p136\n",
      "https://www.funda.nl/koop/rotterdam/p118\n",
      "https://www.funda.nl/koop/rotterdam/p137\n",
      "https://www.funda.nl/koop/rotterdam/p138\n",
      "https://www.funda.nl/koop/rotterdam/p139\n",
      "https://www.funda.nl/koop/rotterdam/p123\n",
      "https://www.funda.nl/koop/rotterdam/p140\n",
      "https://www.funda.nl/koop/rotterdam/p144\n",
      "https://www.funda.nl/koop/rotterdam/p142\n",
      "https://www.funda.nl/koop/rotterdam/p141\n",
      "https://www.funda.nl/koop/rotterdam/p143\n",
      "https://www.funda.nl/koop/rotterdam/p145\n",
      "https://www.funda.nl/koop/rotterdam/p146\n",
      "https://www.funda.nl/koop/rotterdam/p147\n",
      "https://www.funda.nl/koop/rotterdam/p148\n",
      "https://www.funda.nl/koop/rotterdam/p149\n",
      "https://www.funda.nl/koop/rotterdam/p150\n",
      "https://www.funda.nl/koop/rotterdam/p116\n",
      "https://www.funda.nl/koop/rotterdam/p151\n",
      "https://www.funda.nl/koop/rotterdam/p153\n",
      "https://www.funda.nl/koop/rotterdam/p152\n",
      "https://www.funda.nl/koop/rotterdam/p154\n",
      "https://www.funda.nl/koop/rotterdam/p155\n",
      "https://www.funda.nl/koop/rotterdam/p122\n",
      "https://www.funda.nl/koop/rotterdam/p124\n",
      "https://www.funda.nl/koop/rotterdam/p129\n",
      "https://www.funda.nl/koop/rotterdam/p126\n",
      "https://www.funda.nl/koop/rotterdam/p125\n",
      "https://www.funda.nl/koop/rotterdam/p130\n",
      "https://www.funda.nl/koop/rotterdam/p127\n",
      "https://www.funda.nl/koop/rotterdam/p128\n",
      "https://www.funda.nl/koop/rotterdam/p132\n",
      "https://www.funda.nl/koop/rotterdam/p133\n",
      "https://www.funda.nl/koop/rotterdam/p134\n",
      "https://www.funda.nl/koop/rotterdam/p131\n"
     ]
    }
   ],
   "source": [
    "results = await main(max_num_pages)"
   ]
  },
  {
   "cell_type": "code",
   "execution_count": 14,
   "metadata": {},
   "outputs": [
    {
     "data": {
      "text/plain": [
       "2011"
      ]
     },
     "execution_count": 14,
     "metadata": {},
     "output_type": "execute_result"
    }
   ],
   "source": [
    "[*(results | traverse)].__len__()"
   ]
  },
  {
   "cell_type": "code",
   "execution_count": 34,
   "metadata": {},
   "outputs": [
    {
     "name": "stdout",
     "output_type": "stream",
     "text": [
      "https://www.funda.nl/koop/rotterdam/p8\n",
      "https://www.funda.nl/koop/rotterdam/p10\n",
      "https://www.funda.nl/koop/rotterdam/p3\n",
      "https://www.funda.nl/koop/rotterdam/p7\n",
      "https://www.funda.nl/koop/rotterdam/p12\n",
      "https://www.funda.nl/koop/rotterdam/p11\n",
      "https://www.funda.nl/koop/rotterdam/p5\n",
      "https://www.funda.nl/koop/rotterdam/p1\n",
      "https://www.funda.nl/koop/rotterdam/p4\n",
      "https://www.funda.nl/koop/rotterdam/p6https://www.funda.nl/koop/rotterdam/p2\n",
      "\n",
      "https://www.funda.nl/koop/rotterdam/p9\n",
      "https://www.funda.nl/koop/rotterdam/p20\n",
      "https://www.funda.nl/koop/rotterdam/p17\n",
      "https://www.funda.nl/koop/rotterdam/p19\n",
      "https://www.funda.nl/koop/rotterdam/p13\n",
      "https://www.funda.nl/koop/rotterdam/p16\n",
      "https://www.funda.nl/koop/rotterdam/p14\n",
      "https://www.funda.nl/koop/rotterdam/p18\n",
      "https://www.funda.nl/koop/rotterdam/p21\n",
      "https://www.funda.nl/koop/rotterdam/p24\n",
      "https://www.funda.nl/koop/rotterdam/p23\n",
      "https://www.funda.nl/koop/rotterdam/p22\n",
      "https://www.funda.nl/koop/rotterdam/p26\n",
      "https://www.funda.nl/koop/rotterdam/p25\n",
      "https://www.funda.nl/koop/rotterdam/p27\n",
      "https://www.funda.nl/koop/rotterdam/p30\n",
      "https://www.funda.nl/koop/rotterdam/p28\n",
      "https://www.funda.nl/koop/rotterdam/p29\n",
      "https://www.funda.nl/koop/rotterdam/p15\n",
      "https://www.funda.nl/koop/rotterdam/p31\n",
      "https://www.funda.nl/koop/rotterdam/p32\n",
      "https://www.funda.nl/koop/rotterdam/p35https://www.funda.nl/koop/rotterdam/p34\n",
      "\n",
      "https://www.funda.nl/koop/rotterdam/p33\n",
      "https://www.funda.nl/koop/rotterdam/p38\n",
      "https://www.funda.nl/koop/rotterdam/p42\n",
      "https://www.funda.nl/koop/rotterdam/p37\n",
      "https://www.funda.nl/koop/rotterdam/p41\n",
      "https://www.funda.nl/koop/rotterdam/p43\n",
      "https://www.funda.nl/koop/rotterdam/p39\n",
      "https://www.funda.nl/koop/rotterdam/p36\n",
      "https://www.funda.nl/koop/rotterdam/p40\n",
      "https://www.funda.nl/koop/rotterdam/p47\n",
      "https://www.funda.nl/koop/rotterdam/p45\n",
      "https://www.funda.nl/koop/rotterdam/p44\n",
      "https://www.funda.nl/koop/rotterdam/p46\n",
      "https://www.funda.nl/koop/rotterdam/p49\n",
      "https://www.funda.nl/koop/rotterdam/p50\n",
      "https://www.funda.nl/koop/rotterdam/p53\n",
      "https://www.funda.nl/koop/rotterdam/p48\n",
      "https://www.funda.nl/koop/rotterdam/p55\n",
      "https://www.funda.nl/koop/rotterdam/p52\n",
      "https://www.funda.nl/koop/rotterdam/p54\n",
      "https://www.funda.nl/koop/rotterdam/p51\n",
      "https://www.funda.nl/koop/rotterdam/p59\n",
      "https://www.funda.nl/koop/rotterdam/p56\n",
      "https://www.funda.nl/koop/rotterdam/p57\n",
      "https://www.funda.nl/koop/rotterdam/p58\n",
      "https://www.funda.nl/koop/rotterdam/p63\n",
      "https://www.funda.nl/koop/rotterdam/p60\n",
      "https://www.funda.nl/koop/rotterdam/p65\n",
      "https://www.funda.nl/koop/rotterdam/p61\n",
      "https://www.funda.nl/koop/rotterdam/p62\n",
      "https://www.funda.nl/koop/rotterdam/p64\n",
      "https://www.funda.nl/koop/rotterdam/p66\n",
      "https://www.funda.nl/koop/rotterdam/p67\n",
      "https://www.funda.nl/koop/rotterdam/p68\n",
      "https://www.funda.nl/koop/rotterdam/p70\n",
      "https://www.funda.nl/koop/rotterdam/p71\n",
      "https://www.funda.nl/koop/rotterdam/p69\n",
      "https://www.funda.nl/koop/rotterdam/p72\n",
      "https://www.funda.nl/koop/rotterdam/p75\n",
      "https://www.funda.nl/koop/rotterdam/p73\n",
      "https://www.funda.nl/koop/rotterdam/p76\n",
      "https://www.funda.nl/koop/rotterdam/p74\n",
      "https://www.funda.nl/koop/rotterdam/p77\n",
      "https://www.funda.nl/koop/rotterdam/p78\n",
      "https://www.funda.nl/koop/rotterdam/p79\n",
      "https://www.funda.nl/koop/rotterdam/p80\n",
      "https://www.funda.nl/koop/rotterdam/p81\n",
      "https://www.funda.nl/koop/rotterdam/p84\n",
      "https://www.funda.nl/koop/rotterdam/p82\n",
      "https://www.funda.nl/koop/rotterdam/p83\n",
      "https://www.funda.nl/koop/rotterdam/p85https://www.funda.nl/koop/rotterdam/p86\n",
      "\n",
      "https://www.funda.nl/koop/rotterdam/p87\n",
      "https://www.funda.nl/koop/rotterdam/p89\n",
      "https://www.funda.nl/koop/rotterdam/p88\n",
      "https://www.funda.nl/koop/rotterdam/p90\n",
      "https://www.funda.nl/koop/rotterdam/p91\n",
      "https://www.funda.nl/koop/rotterdam/p93\n",
      "https://www.funda.nl/koop/rotterdam/p92\n",
      "https://www.funda.nl/koop/rotterdam/p94\n",
      "https://www.funda.nl/koop/rotterdam/p95\n",
      "https://www.funda.nl/koop/rotterdam/p96\n",
      "https://www.funda.nl/koop/rotterdam/p101\n",
      "https://www.funda.nl/koop/rotterdam/p100\n",
      "https://www.funda.nl/koop/rotterdam/p97\n",
      "https://www.funda.nl/koop/rotterdam/p99\n",
      "https://www.funda.nl/koop/rotterdam/p103\n",
      "https://www.funda.nl/koop/rotterdam/p98\n",
      "https://www.funda.nl/koop/rotterdam/p102\n",
      "https://www.funda.nl/koop/rotterdam/p105\n",
      "https://www.funda.nl/koop/rotterdam/p104\n",
      "https://www.funda.nl/koop/rotterdam/p107\n",
      "https://www.funda.nl/koop/rotterdam/p106\n",
      "https://www.funda.nl/koop/rotterdam/p108\n",
      "https://www.funda.nl/koop/rotterdam/p109\n",
      "https://www.funda.nl/koop/rotterdam/p113\n",
      "https://www.funda.nl/koop/rotterdam/p110\n",
      "https://www.funda.nl/koop/rotterdam/p111\n",
      "https://www.funda.nl/koop/rotterdam/p112\n",
      "https://www.funda.nl/koop/rotterdam/p115\n",
      "https://www.funda.nl/koop/rotterdam/p114\n",
      "https://www.funda.nl/koop/rotterdam/p116\n",
      "https://www.funda.nl/koop/rotterdam/p119\n",
      "https://www.funda.nl/koop/rotterdam/p120\n",
      "https://www.funda.nl/koop/rotterdam/p118\n",
      "https://www.funda.nl/koop/rotterdam/p117\n",
      "https://www.funda.nl/koop/rotterdam/p132\n",
      "https://www.funda.nl/koop/rotterdam/p130\n",
      "https://www.funda.nl/koop/rotterdam/p131\n",
      "https://www.funda.nl/koop/rotterdam/p133\n",
      "https://www.funda.nl/koop/rotterdam/p134\n",
      "https://www.funda.nl/koop/rotterdam/p135\n",
      "https://www.funda.nl/koop/rotterdam/p122\n",
      "https://www.funda.nl/koop/rotterdam/p123\n",
      "https://www.funda.nl/koop/rotterdam/p126\n",
      "https://www.funda.nl/koop/rotterdam/p121\n",
      "https://www.funda.nl/koop/rotterdam/p138\n",
      "https://www.funda.nl/koop/rotterdam/p136\n",
      "https://www.funda.nl/koop/rotterdam/p137\n",
      "https://www.funda.nl/koop/rotterdam/p139\n",
      "https://www.funda.nl/koop/rotterdam/p124\n",
      "https://www.funda.nl/koop/rotterdam/p125\n",
      "https://www.funda.nl/koop/rotterdam/p142\n",
      "https://www.funda.nl/koop/rotterdam/p141\n",
      "https://www.funda.nl/koop/rotterdam/p140\n",
      "https://www.funda.nl/koop/rotterdam/p143\n",
      "https://www.funda.nl/koop/rotterdam/p144\n",
      "https://www.funda.nl/koop/rotterdam/p145\n",
      "https://www.funda.nl/koop/rotterdam/p147\n",
      "https://www.funda.nl/koop/rotterdam/p128\n",
      "https://www.funda.nl/koop/rotterdam/p146\n",
      "https://www.funda.nl/koop/rotterdam/p127\n",
      "https://www.funda.nl/koop/rotterdam/p148\n",
      "https://www.funda.nl/koop/rotterdam/p129\n",
      "https://www.funda.nl/koop/rotterdam/p151\n",
      "https://www.funda.nl/koop/rotterdam/p149\n",
      "https://www.funda.nl/koop/rotterdam/p150\n",
      "https://www.funda.nl/koop/rotterdam/p152\n",
      "https://www.funda.nl/koop/rotterdam/p153\n",
      "https://www.funda.nl/koop/rotterdam/p154\n",
      "https://www.funda.nl/koop/rotterdam/p155\n"
     ]
    }
   ],
   "source": [
    "prices = await get_prices_from_url(url, max_num_pages)"
   ]
  },
  {
   "cell_type": "code",
   "execution_count": 44,
   "metadata": {},
   "outputs": [],
   "source": [
    "prices = list(results \n",
    "              | traverse \n",
    "              | where(lambda x: \"Prijs op aanvraag\" not in x) \n",
    "              | select(lambda x: x.split(\" \")[1].replace(\".\", \"\")) \n",
    "              | select(lambda x: float(x))\n",
    "             )"
   ]
  },
  {
   "cell_type": "code",
   "execution_count": 49,
   "metadata": {},
   "outputs": [
    {
     "data": {
      "text/plain": [
       "(array([1.10373962e-07, 0.00000000e+00, 0.00000000e+00, 1.43486151e-07,\n",
       "        1.53419807e-06, 1.49004849e-06, 2.37304019e-06, 2.35096539e-06,\n",
       "        2.26266622e-06, 1.73287121e-06, 1.60042245e-06, 1.24722577e-06,\n",
       "        1.21411358e-06, 9.71290867e-07, 1.04855264e-06, 3.75271471e-07,\n",
       "        6.95355961e-07, 3.42159283e-07, 2.86972302e-07, 3.97346264e-07,\n",
       "        1.54523547e-07, 1.32448755e-07, 8.82991697e-08, 1.10373962e-07,\n",
       "        9.93365659e-08, 9.93365659e-08, 6.62243773e-08, 1.10373962e-07,\n",
       "        6.62243773e-08, 7.72617735e-08, 1.43486151e-07, 2.20747924e-08,\n",
       "        5.51869811e-08, 1.43486151e-07, 3.31121886e-08, 5.51869811e-08,\n",
       "        2.20747924e-08, 8.82991697e-08, 1.10373962e-08, 2.20747924e-08,\n",
       "        2.20747924e-08, 1.10373962e-08, 0.00000000e+00, 5.51869811e-08,\n",
       "        2.20747924e-08, 0.00000000e+00, 0.00000000e+00, 1.10373962e-08,\n",
       "        1.10373962e-08, 2.20747924e-08, 0.00000000e+00, 1.10373962e-08,\n",
       "        1.10373962e-08, 1.10373962e-08, 0.00000000e+00, 2.20747924e-08,\n",
       "        1.10373962e-08, 1.10373962e-08, 0.00000000e+00, 0.00000000e+00,\n",
       "        2.20747924e-08, 1.10373962e-08, 0.00000000e+00, 1.10373962e-08,\n",
       "        4.41495849e-08, 0.00000000e+00, 0.00000000e+00, 0.00000000e+00,\n",
       "        0.00000000e+00, 0.00000000e+00, 0.00000000e+00, 0.00000000e+00,\n",
       "        0.00000000e+00, 1.10373962e-08, 0.00000000e+00, 0.00000000e+00,\n",
       "        1.10373962e-08, 0.00000000e+00, 0.00000000e+00, 0.00000000e+00,\n",
       "        2.20747924e-08, 0.00000000e+00, 0.00000000e+00, 1.10373962e-08,\n",
       "        0.00000000e+00, 0.00000000e+00, 0.00000000e+00, 0.00000000e+00,\n",
       "        0.00000000e+00, 0.00000000e+00, 0.00000000e+00, 0.00000000e+00,\n",
       "        0.00000000e+00, 0.00000000e+00, 0.00000000e+00, 0.00000000e+00,\n",
       "        0.00000000e+00, 0.00000000e+00, 0.00000000e+00, 1.10373962e-08,\n",
       "        0.00000000e+00, 0.00000000e+00, 0.00000000e+00, 0.00000000e+00,\n",
       "        0.00000000e+00, 0.00000000e+00, 0.00000000e+00, 0.00000000e+00,\n",
       "        0.00000000e+00, 0.00000000e+00, 0.00000000e+00, 0.00000000e+00,\n",
       "        0.00000000e+00, 0.00000000e+00, 0.00000000e+00, 0.00000000e+00,\n",
       "        0.00000000e+00, 0.00000000e+00, 0.00000000e+00, 0.00000000e+00,\n",
       "        0.00000000e+00, 0.00000000e+00, 0.00000000e+00, 0.00000000e+00,\n",
       "        0.00000000e+00, 0.00000000e+00, 0.00000000e+00, 0.00000000e+00,\n",
       "        0.00000000e+00, 0.00000000e+00, 0.00000000e+00, 0.00000000e+00,\n",
       "        0.00000000e+00, 0.00000000e+00, 0.00000000e+00, 0.00000000e+00,\n",
       "        0.00000000e+00, 0.00000000e+00, 0.00000000e+00, 0.00000000e+00,\n",
       "        0.00000000e+00, 0.00000000e+00, 0.00000000e+00, 0.00000000e+00,\n",
       "        0.00000000e+00, 0.00000000e+00, 0.00000000e+00, 0.00000000e+00,\n",
       "        0.00000000e+00, 0.00000000e+00, 0.00000000e+00, 0.00000000e+00,\n",
       "        2.20747924e-08]),\n",
       " array([3.50000000e+03, 4.85751634e+04, 9.36503268e+04, 1.38725490e+05,\n",
       "        1.83800654e+05, 2.28875817e+05, 2.73950980e+05, 3.19026144e+05,\n",
       "        3.64101307e+05, 4.09176471e+05, 4.54251634e+05, 4.99326797e+05,\n",
       "        5.44401961e+05, 5.89477124e+05, 6.34552288e+05, 6.79627451e+05,\n",
       "        7.24702614e+05, 7.69777778e+05, 8.14852941e+05, 8.59928105e+05,\n",
       "        9.05003268e+05, 9.50078431e+05, 9.95153595e+05, 1.04022876e+06,\n",
       "        1.08530392e+06, 1.13037908e+06, 1.17545425e+06, 1.22052941e+06,\n",
       "        1.26560458e+06, 1.31067974e+06, 1.35575490e+06, 1.40083007e+06,\n",
       "        1.44590523e+06, 1.49098039e+06, 1.53605556e+06, 1.58113072e+06,\n",
       "        1.62620588e+06, 1.67128105e+06, 1.71635621e+06, 1.76143137e+06,\n",
       "        1.80650654e+06, 1.85158170e+06, 1.89665686e+06, 1.94173203e+06,\n",
       "        1.98680719e+06, 2.03188235e+06, 2.07695752e+06, 2.12203268e+06,\n",
       "        2.16710784e+06, 2.21218301e+06, 2.25725817e+06, 2.30233333e+06,\n",
       "        2.34740850e+06, 2.39248366e+06, 2.43755882e+06, 2.48263399e+06,\n",
       "        2.52770915e+06, 2.57278431e+06, 2.61785948e+06, 2.66293464e+06,\n",
       "        2.70800980e+06, 2.75308497e+06, 2.79816013e+06, 2.84323529e+06,\n",
       "        2.88831046e+06, 2.93338562e+06, 2.97846078e+06, 3.02353595e+06,\n",
       "        3.06861111e+06, 3.11368627e+06, 3.15876144e+06, 3.20383660e+06,\n",
       "        3.24891176e+06, 3.29398693e+06, 3.33906209e+06, 3.38413725e+06,\n",
       "        3.42921242e+06, 3.47428758e+06, 3.51936275e+06, 3.56443791e+06,\n",
       "        3.60951307e+06, 3.65458824e+06, 3.69966340e+06, 3.74473856e+06,\n",
       "        3.78981373e+06, 3.83488889e+06, 3.87996405e+06, 3.92503922e+06,\n",
       "        3.97011438e+06, 4.01518954e+06, 4.06026471e+06, 4.10533987e+06,\n",
       "        4.15041503e+06, 4.19549020e+06, 4.24056536e+06, 4.28564052e+06,\n",
       "        4.33071569e+06, 4.37579085e+06, 4.42086601e+06, 4.46594118e+06,\n",
       "        4.51101634e+06, 4.55609150e+06, 4.60116667e+06, 4.64624183e+06,\n",
       "        4.69131699e+06, 4.73639216e+06, 4.78146732e+06, 4.82654248e+06,\n",
       "        4.87161765e+06, 4.91669281e+06, 4.96176797e+06, 5.00684314e+06,\n",
       "        5.05191830e+06, 5.09699346e+06, 5.14206863e+06, 5.18714379e+06,\n",
       "        5.23221895e+06, 5.27729412e+06, 5.32236928e+06, 5.36744444e+06,\n",
       "        5.41251961e+06, 5.45759477e+06, 5.50266993e+06, 5.54774510e+06,\n",
       "        5.59282026e+06, 5.63789542e+06, 5.68297059e+06, 5.72804575e+06,\n",
       "        5.77312092e+06, 5.81819608e+06, 5.86327124e+06, 5.90834641e+06,\n",
       "        5.95342157e+06, 5.99849673e+06, 6.04357190e+06, 6.08864706e+06,\n",
       "        6.13372222e+06, 6.17879739e+06, 6.22387255e+06, 6.26894771e+06,\n",
       "        6.31402288e+06, 6.35909804e+06, 6.40417320e+06, 6.44924837e+06,\n",
       "        6.49432353e+06, 6.53939869e+06, 6.58447386e+06, 6.62954902e+06,\n",
       "        6.67462418e+06, 6.71969935e+06, 6.76477451e+06, 6.80984967e+06,\n",
       "        6.85492484e+06, 6.90000000e+06]),\n",
       " <BarContainer object of 153 artists>)"
      ]
     },
     "execution_count": 49,
     "metadata": {},
     "output_type": "execute_result"
    },
    {
     "data": {
      "image/png": "[encoded data removed]",
      "text/plain": [
       "<Figure size 640x480 with 1 Axes>"
      ]
     },
     "metadata": {},
     "output_type": "display_data"
    }
   ],
   "source": [
    "plt.hist(prices, density=True, bins='fd')"
   ]
  },
  {
   "cell_type": "code",
   "execution_count": 42,
   "metadata": {},
   "outputs": [
    {
     "data": {
      "text/plain": [
       "['Prijs op aanvraag']"
      ]
     },
     "execution_count": 42,
     "metadata": {},
     "output_type": "execute_result"
    }
   ],
   "source": [
    "list(results \n",
    "              | traverse \n",
    "              | where(lambda x: \"op\" in x) \n",
    "              # | select(lambda x: float(x))\n",
    "             )"
   ]
  },
  {
   "cell_type": "code",
   "execution_count": 26,
   "metadata": {},
   "outputs": [
    {
     "data": {
      "text/plain": [
       "['€ 625.000 k.k.',\n",
       " '€ 795.000 k.k.',\n",
       " '€ 365.000 k.k.',\n",
       " '€ 998.000 k.k.',\n",
       " '€ 398.000 k.k.',\n",
       " '€ 700.000 k.k.',\n",
       " '€ 498.000 k.k.',\n",
       " '€ 365.000 k.k.',\n",
       " '€ 375.000 k.k.',\n",
       " '€ 1.250.000 k.k.',\n",
       " '€ 350.000 k.k.',\n",
       " '€ 550.000 k.k.',\n",
       " '€ 625.000 k.k.',\n",
       " '€ 575.000 k.k.',\n",
       " '€ 595.000 k.k.']"
      ]
     },
     "execution_count": 26,
     "metadata": {},
     "output_type": "execute_result"
    }
   ],
   "source": [
    "prices_from_html_synch(htmls[2])"
   ]
  },
  {
   "cell_type": "code",
   "execution_count": null,
   "metadata": {},
   "outputs": [],
   "source": []
  }
 ],
 "metadata": {
  "kernelspec": {
   "display_name": "Python 3 (ipykernel)",
   "language": "python",
   "name": "python3"
  },
  "language_info": {
   "codemirror_mode": {
    "name": "ipython",
    "version": 3
   },
   "file_extension": ".py",
   "mimetype": "text/x-python",
   "name": "python",
   "nbconvert_exporter": "python",
   "pygments_lexer": "ipython3",
   "version": "3.10.6"
  }
 },
 "nbformat": 4,
 "nbformat_minor": 4
}
