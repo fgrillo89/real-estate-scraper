{
 "cells": [
  {
   "cell_type": "code",
   "execution_count": 71,
   "metadata": {},
   "outputs": [],
   "source": [
    "import asyncio\n",
    "import requests\n",
    "import lxml\n",
    "import cchardet\n",
    "from bs4 import BeautifulSoup\n",
    "from pipe import traverse, select, sort, where\n",
    "from matplotlib import pyplot as plt\n",
    "import re\n",
    "import numpy as np\n",
    "import json\n",
    "import pandas as pd\n",
    "\n",
    "url = \"https://www.funda.nl/en/koop/rotterdam/p3\"\n",
    "\n",
    "headers = {\n",
    "    \"authority\": \"www.funda.nl\",\n",
    "    \"accept\": \"*/*\",\n",
    "    \"accept-language\": \"en-US,en;q=0.9,nl;q=0.8,it;q=0.7\",\n",
    "    \"content-type\": \"application/x-www-form-urlencoded; charset=UTF-8\",\n",
    "    \"origin\": \"https://www.funda.nl\",\n",
    "    \"referer\": \"https://www.funda.nl/koop/rotterdam/\",\n",
    "    \"sec-ch-ua\": \"'Chromium';v='106', 'Google Chrome';v='106', 'Not;A=Brand';v='99'\",\n",
    "    \"sec-ch-ua-mobile\": \"?0\",\n",
    "    \"sec-ch-ua-platform\": \"Windows\",\n",
    "    \"sec-fetch-dest\": \"empty\",\n",
    "    \"sec-fetch-mode\": \"cors\",\n",
    "    \"sec-fetch-site\": \"same-origin\",\n",
    "    \"user-agent\": \"Mozilla/5.0 (Windows NT 10.0; Win64; x64) AppleWebKit/537.36 (KHTML, like Gecko) Chrome/106.0.0.0 Safari/537.36\",\n",
    "    \"x-requested-with\": \"XMLHttpRequest\"\n",
    "}\n",
    "\n",
    "response = requests.request(\"GET\", url, headers=headers)\n",
    "\n"
   ]
  },
  {
   "cell_type": "code",
   "execution_count": 2,
   "metadata": {},
   "outputs": [],
   "source": [
    "url = \"https://www.funda.nl/koop/rotterdam/p{}\""
   ]
  },
  {
   "cell_type": "code",
   "execution_count": 3,
   "metadata": {},
   "outputs": [],
   "source": [
    "def get_html_synch(url):\n",
    "    response = requests.request(\"GET\", url, headers=headers)\n",
    "    print(url)\n",
    "    return response.text"
   ]
  },
  {
   "cell_type": "code",
   "execution_count": 4,
   "metadata": {},
   "outputs": [],
   "source": [
    "def prices_from_html_synch(html):\n",
    "    soup = BeautifulSoup(html, 'lxml')\n",
    "    return [res.text for res in soup.find_all(\"span\", class_=\"search-result-price\")]"
   ]
  },
  {
   "cell_type": "code",
   "execution_count": 5,
   "metadata": {},
   "outputs": [],
   "source": [
    "def get_urls_from_main_page_synch(soup):\n",
    "    data = json.loads(soup.find_all('script', type='application/ld+json')[3].text)\n",
    "    return [item['url'] for item in data['itemListElement']]"
   ]
  },
  {
   "cell_type": "code",
   "execution_count": 6,
   "metadata": {},
   "outputs": [],
   "source": [
    "async def get_html(url):\n",
    "    return await asyncio.to_thread(get_html_synch, url)"
   ]
  },
  {
   "cell_type": "code",
   "execution_count": 7,
   "metadata": {},
   "outputs": [],
   "source": [
    "async def prices_from_html(html):\n",
    "    return await asyncio.to_thread(prices_from_html_synch, html)"
   ]
  },
  {
   "cell_type": "code",
   "execution_count": 8,
   "metadata": {},
   "outputs": [],
   "source": [
    "async def get_prices_from_url(url, max_pp):\n",
    "    htmls = await asyncio.gather(*(get_html(url.format(i)) for i in range(1, max_pp + 1)))\n",
    "    prices = await asyncio.gather(*(prices_from_html(html) for html in htmls))\n",
    "    return prices"
   ]
  },
  {
   "cell_type": "code",
   "execution_count": 9,
   "metadata": {},
   "outputs": [],
   "source": [
    "async def main_html(max_pp):\n",
    "    return await asyncio.gather(*(get_html(url.format(i)) for i in range(1, max_pp + 1)))"
   ]
  },
  {
   "cell_type": "code",
   "execution_count": 10,
   "metadata": {},
   "outputs": [],
   "source": [
    "# print(re.findall('\\d+', 'xyz123abc456def789'))\n",
    "soup = BeautifulSoup(response.text, 'lxml')\n",
    "pp=soup.find(\"div\", class_=\"pagination-pages\")\n"
   ]
  },
  {
   "cell_type": "code",
   "execution_count": null,
   "metadata": {},
   "outputs": [],
   "source": []
  },
  {
   "cell_type": "code",
   "execution_count": null,
   "metadata": {},
   "outputs": [],
   "source": []
  },
  {
   "cell_type": "code",
   "execution_count": null,
   "metadata": {},
   "outputs": [],
   "source": []
  },
  {
   "cell_type": "code",
   "execution_count": 11,
   "metadata": {},
   "outputs": [
    {
     "name": "stdout",
     "output_type": "stream",
     "text": [
      "159\n"
     ]
    }
   ],
   "source": [
    "max_num_pages = list(pp \n",
    "                     | select(lambda x: re.findall('\\d+', x.text))\n",
    "                     | traverse \n",
    "                     | select(lambda x: int(x)) \n",
    "                     | sort(reverse=True)\n",
    "                    )[0]\n",
    "print(max_num_pages)"
   ]
  },
  {
   "cell_type": "code",
   "execution_count": 12,
   "metadata": {},
   "outputs": [
    {
     "name": "stdout",
     "output_type": "stream",
     "text": [
      "https://www.funda.nl/koop/rotterdam/p2\n",
      "https://www.funda.nl/koop/rotterdam/p1\n"
     ]
    }
   ],
   "source": [
    "results = await get_prices_from_url(url, 2)"
   ]
  },
  {
   "cell_type": "code",
   "execution_count": 13,
   "metadata": {},
   "outputs": [],
   "source": [
    "# results = await get_prices_from_url(max_num_pages)"
   ]
  },
  {
   "cell_type": "code",
   "execution_count": 14,
   "metadata": {},
   "outputs": [
    {
     "data": {
      "text/plain": [
       "30"
      ]
     },
     "execution_count": 14,
     "metadata": {},
     "output_type": "execute_result"
    }
   ],
   "source": [
    "[*(results | traverse)].__len__()"
   ]
  },
  {
   "cell_type": "code",
   "execution_count": 15,
   "metadata": {},
   "outputs": [],
   "source": [
    "prices = list(results \n",
    "              | traverse \n",
    "              | where(lambda x: \"Prijs op aanvraag\" not in x) \n",
    "              | select(lambda x: x.split(\" \")[1].replace(\".\", \"\")) \n",
    "              | select(lambda x: float(x))\n",
    "             )"
   ]
  },
  {
   "cell_type": "code",
   "execution_count": 16,
   "metadata": {},
   "outputs": [
    {
     "data": {
      "text/plain": [
       "(array([2.27074236e-06, 1.39737991e-06, 6.98689956e-07, 3.49344978e-07,\n",
       "        3.49344978e-07, 1.74672489e-07]),\n",
       " array([ 350000.        ,  540833.33333333,  731666.66666667,\n",
       "         922500.        , 1113333.33333333, 1304166.66666667,\n",
       "        1495000.        ]),\n",
       " <BarContainer object of 6 artists>)"
      ]
     },
     "execution_count": 16,
     "metadata": {},
     "output_type": "execute_result"
    },
    {
     "data": {
      "image/png": "[encoded data removed]",
      "text/plain": [
       "<Figure size 640x480 with 1 Axes>"
      ]
     },
     "metadata": {},
     "output_type": "display_data"
    }
   ],
   "source": [
    "plt.hist(prices, density=True, bins='fd')"
   ]
  },
  {
   "cell_type": "code",
   "execution_count": null,
   "metadata": {},
   "outputs": [],
   "source": []
  },
  {
   "cell_type": "code",
   "execution_count": 17,
   "metadata": {},
   "outputs": [
    {
     "data": {
      "text/plain": [
       "582500.0"
      ]
     },
     "execution_count": 17,
     "metadata": {},
     "output_type": "execute_result"
    }
   ],
   "source": [
    "np.median(np.array(prices))"
   ]
  },
  {
   "cell_type": "code",
   "execution_count": null,
   "metadata": {},
   "outputs": [],
   "source": []
  },
  {
   "cell_type": "code",
   "execution_count": 18,
   "metadata": {},
   "outputs": [],
   "source": [
    "links = soup.find_all(\"div\", class_=\"search-result__header-title-col\")"
   ]
  },
  {
   "cell_type": "code",
   "execution_count": 19,
   "metadata": {},
   "outputs": [
    {
     "name": "stdout",
     "output_type": "stream",
     "text": [
      "https://www.funda.nl/en/koop/rotterdam/huis-42985878-laan-van-magisch-realisme-15-b/\n"
     ]
    }
   ],
   "source": [
    "urls = get_urls_from_main_page_synch(soup)\n",
    "html = get_html_synch(urls[1])"
   ]
  },
  {
   "cell_type": "code",
   "execution_count": 33,
   "metadata": {},
   "outputs": [],
   "source": [
    "attributes = ['Asking price',\n",
    " 'Asking price per m²',\n",
    " 'Listed since',\n",
    " 'Status',\n",
    " 'Acceptance',\n",
    " 'Kind of house',\n",
    " 'Building type',\n",
    " 'Year of construction',\n",
    " 'Type of roof',\n",
    " 'Living area',\n",
    " 'Other space inside the building',\n",
    " 'Exterior space attached to the building',\n",
    " 'External storage space',\n",
    " 'Plot size',\n",
    " 'Volume in cubic meters',\n",
    " 'Number of rooms',\n",
    " 'Number of bath rooms',\n",
    " 'Bathroom facilities',\n",
    " 'Number of stories',\n",
    " 'Facilities',\n",
    " 'Energy label',\n",
    " 'Insulation',\n",
    " 'Heating',\n",
    " 'Hot water',\n",
    " 'Ownership situation',\n",
    " 'Location',\n",
    " 'Garden',\n",
    " 'Back garden',\n",
    " 'Shed / storage',\n",
    " 'Facilities',\n",
    " 'Type of parking facilities']"
   ]
  },
  {
   "cell_type": "code",
   "execution_count": 20,
   "metadata": {},
   "outputs": [],
   "source": [
    "sub_soup = BeautifulSoup(html, 'lxml')"
   ]
  },
  {
   "cell_type": "code",
   "execution_count": 61,
   "metadata": {},
   "outputs": [],
   "source": [
    "price_box = sub_soup.find(\"div\", class_=\"object-header__details\")\n",
    "\n",
    "data_dict = {}\n",
    "\n",
    "data_dict['address'] = price_box.find(\"span\", class_=\"object-header__title\").get_text(strip=True)\n",
    "data_dict['postcode'], data_dict['neighbourhood'] = list(price_box.find(\"span\", class_=\"object-header__subtitle\").stripped_strings)\n"
   ]
  },
  {
   "cell_type": "code",
   "execution_count": 66,
   "metadata": {},
   "outputs": [],
   "source": [
    "details_html =  sub_soup.find(\"div\", class_=\"object-kenmerken-body\")"
   ]
  },
  {
   "cell_type": "code",
   "execution_count": 67,
   "metadata": {},
   "outputs": [],
   "source": [
    "for attribute in attributes:\n",
    "    dt = details_html.find(lambda tag: tag.name == 'dt' and attribute in tag.text)\n",
    "    if dt:\n",
    "        data_dict[attribute]=list(dt.find_next(\"dd\").stripped_strings)[0]\n",
    "    else:\n",
    "        data_dict[attribute] = None    "
   ]
  },
  {
   "cell_type": "code",
   "execution_count": 63,
   "metadata": {},
   "outputs": [],
   "source": [
    "data_dict['description'] = sub_soup.find(\"div\", class_=\"object-description-body\").get_text(strip=True)"
   ]
  },
  {
   "cell_type": "code",
   "execution_count": 68,
   "metadata": {},
   "outputs": [
    {
     "data": {
      "text/plain": [
       "{'address': 'Laan van Magisch Realisme 15 B',\n",
       " 'postcode': '3059 VJ Rotterdam',\n",
       " 'neighbourhood': 'Nesselande',\n",
       " 'Asking price': '€ 495,000 kosten koper',\n",
       " 'Asking price per m²': '€ 3,613',\n",
       " 'Listed since': 'October 6, 2022',\n",
       " 'Status': 'Available',\n",
       " 'Acceptance': 'Available in consultation',\n",
       " 'Kind of house': 'Single-family home, row house',\n",
       " 'Building type': 'Resale property',\n",
       " 'Year of construction': '2009',\n",
       " 'Type of roof': 'Flat roof',\n",
       " 'Living area': '137 m²',\n",
       " 'Other space inside the building': '4 m²',\n",
       " 'Exterior space attached to the building': '1 m²',\n",
       " 'External storage space': '2 m²',\n",
       " 'Plot size': '149 m²',\n",
       " 'Volume in cubic meters': '495 m³',\n",
       " 'Number of rooms': '5 rooms (4 bedrooms)',\n",
       " 'Number of bath rooms': '1 bathroom',\n",
       " 'Bathroom facilities': 'Bath and toilet',\n",
       " 'Number of stories': '3 stories',\n",
       " 'Facilities': 'Mechanical ventilation',\n",
       " 'Energy label': 'A',\n",
       " 'Insulation': 'Roof insulation, double glazing, insulated walls and floor insulation',\n",
       " 'Heating': 'District heating',\n",
       " 'Hot water': 'Central facility',\n",
       " 'Ownership situation': 'Full ownership',\n",
       " 'Location': 'Alongside a quiet road and in residential district',\n",
       " 'Garden': 'Back garden and front garden',\n",
       " 'Back garden': '58 m² (10,5 meter deep and 5,5 meter broad)',\n",
       " 'Shed / storage': 'Attached brick storage',\n",
       " 'Type of parking facilities': 'Public parking',\n",
       " 'description': \"In de gewilde,  jonge  en hippe  wijk Nesselande  bieden wij een schitterend  herenhuis  aan op een toplocatie met  een  prachtig uitzicht en een zonnige achtertuin aan het  water. Deze  zeer ruime woning, verdeeld over drie etages is voorzien van een grote en moderne woonkamer met een eiken vloer, openslaande deuren naar de tuin en een luxe keuken die in 2021 is vernieuwd. Tevens zijn er vier grote slaapkamers en een goed onderhouden badkamer verdeeld over de twee verdiepingen.  De woning is gelegen aan de Laan van Magisch Realisme, met veel groen aan de voor- en achterzijde van de woning. De wijk Nesselande kenmerkt zich door de ruimtelijke opzet met prachtige lanen, veel groen, een strand met gezellige boulevard, winkels en horeca. Ook zijn er voldoende basisscholen te vinden.Begane grond:Voortuin met een stenen berging. Entree, hal met meterkast, vaste kast en toilet met fonteintje. Deur naar de grote en lichte woonkamer met rechts de trapopgang naar de eerste verdieping. Op de begane grond tref je een luxe open keuken in hoekopstelling voorzien van diverse apparatuur zoals overkapping een inductiekookplaat met geïntegreerde Bora-afzuiginstallatie, een combi-oven, een vaatwasser, een koelkast en een vriezer. Verder is de keuken voorzien van een fraai natuurstenen werkblad en veel bergruimte. Vanuit de woonkamer is de achtertuin bereikbaar middels openslaande deuren. De zonnige achtertuin is fraai aangelegd met sierbestrating en een groot vlonderterras met overkapping. Hier kun je tot 's avonds laat lekker genieten van de zon.1e verdieping:Overloop met toegang tot de compleet ingerichte badkamer met ligbad, toilet, inloopdouche en dubbele wastafel. De badkamer heeft een speels rond raam dat zorgt voor een fijne lichtinval. Verder treft u hier een een grote slaapkamer aan de achterzijde met een mooie kastenwand en een tweede slaapkamer aan de voorzijde.Tweede verdieping:Overloop met toegang tot de twee slaapkamers en de berging. Op deze verdieping bevinden zich twee ruime slaapkamers. Een studeer-/slaapkamer aan de achterzijde en een slaapkamer aan de voorzijde, beide slaapkamers zijn voorzien van airconditioning.In de royale berging/wasruimte aan de opstelplaats voor de wasmachine, de droger, de mechanische ventilatie-unit en een wasbak.Bijzonderheden:In 2022 is de huidige keuken geplaatst en is in de tuin de vlonder met houten overkapping geplaatst. De woning is netjes onderhouden, zo is in 2021 het schilderwerk aan de kozijnen aan de binnenzijde van de slaapkamers uitgevoerd. De woning is volledig geïsoleerd en op elke verdieping ligt een stijlvolle houten vloer.Afmetingen:Voor de afmetingen verwijzen wij u graag naar de (interactieve) plattegronden.Kadastrale gegevens:Gemeente\\t: RotterdamSectie\\t\\t: BCNummer\\t: 3720Grootte\\t: 149 m²Bouwjaar\\t\\t\\t\\t: 2009Inhoud\\t\\t\\t\\t: 495 m3Gebruiksoppervlakte wonen\\t\\t: 137 m2Overige inpandige ruimte\\t\\t: 4 m2Gebouwgebonden buitenruimte\\t: 1 m2Externe bergruimte\\t\\t\\t: 2 m2Gebruiksoppervlakte woningen:De Meetinstructie is gebaseerd op de NEN2580. De Meetinstructie is bedoeld om een meer eenduidige manier van meten toe te passen voor het geven van een indicatie van de gebruiksoppervlakte. De Meetinstructie sluit verschillen in meetuitkomsten niet volledig uit, door bijvoorbeeld interpretatieverschillen, afrondingen of beperkingen bij het uitvoeren van de meting.Rechtsgeldige koopovereenkomst pas ná ondertekening:Een mondelinge overeenstemming tussen de particuliere verkoper en de particuliere koper is niet rechtsgeldig. Met andere woorden: er is geen koop. Er is pas sprake van een rechtsgeldige koop als de particuliere verkoper en de particuliere koper de koopovereenkomst hebben ondertekend. Dit vloeit voort uit artikel 7:2 Burgerlijk Wetboek. Een bevestiging van de mondelinge overeenstemming per e-mail of een toegestuurd concept van de koopovereenkomst wordt overigens niet gezien als een ‘ondertekende koopovereenkomst’.Van der Panne woning- & bedrijfsmakelaardij is de makelaar van de verkoper. Neem uw eigen NVM-makelaar mee, voor goed advies bij de aankoop van uw nieuwe woning!\"}"
      ]
     },
     "execution_count": 68,
     "metadata": {},
     "output_type": "execute_result"
    }
   ],
   "source": [
    "data_dict"
   ]
  },
  {
   "cell_type": "code",
   "execution_count": 76,
   "metadata": {},
   "outputs": [
    {
     "data": {
      "text/html": [
       "<div>\n",
       "<style scoped>\n",
       "    .dataframe tbody tr th:only-of-type {\n",
       "        vertical-align: middle;\n",
       "    }\n",
       "\n",
       "    .dataframe tbody tr th {\n",
       "        vertical-align: top;\n",
       "    }\n",
       "\n",
       "    .dataframe thead th {\n",
       "        text-align: right;\n",
       "    }\n",
       "</style>\n",
       "<table border=\"1\" class=\"dataframe\">\n",
       "  <thead>\n",
       "    <tr style=\"text-align: right;\">\n",
       "      <th></th>\n",
       "      <th>address</th>\n",
       "      <th>postcode</th>\n",
       "      <th>neighbourhood</th>\n",
       "      <th>Asking price</th>\n",
       "      <th>Asking price per m²</th>\n",
       "      <th>Listed since</th>\n",
       "      <th>Status</th>\n",
       "      <th>Acceptance</th>\n",
       "      <th>Kind of house</th>\n",
       "      <th>Building type</th>\n",
       "      <th>...</th>\n",
       "      <th>Insulation</th>\n",
       "      <th>Heating</th>\n",
       "      <th>Hot water</th>\n",
       "      <th>Ownership situation</th>\n",
       "      <th>Location</th>\n",
       "      <th>Garden</th>\n",
       "      <th>Back garden</th>\n",
       "      <th>Shed / storage</th>\n",
       "      <th>Type of parking facilities</th>\n",
       "      <th>description</th>\n",
       "    </tr>\n",
       "  </thead>\n",
       "  <tbody>\n",
       "    <tr>\n",
       "      <th>0</th>\n",
       "      <td>Laan van Magisch Realisme 15 B</td>\n",
       "      <td>3059 VJ Rotterdam</td>\n",
       "      <td>Nesselande</td>\n",
       "      <td>€ 495,000 kosten koper</td>\n",
       "      <td>€ 3,613</td>\n",
       "      <td>October 6, 2022</td>\n",
       "      <td>Available</td>\n",
       "      <td>Available in consultation</td>\n",
       "      <td>Single-family home, row house</td>\n",
       "      <td>Resale property</td>\n",
       "      <td>...</td>\n",
       "      <td>Roof insulation, double glazing, insulated wal...</td>\n",
       "      <td>District heating</td>\n",
       "      <td>Central facility</td>\n",
       "      <td>Full ownership</td>\n",
       "      <td>Alongside a quiet road and in residential dist...</td>\n",
       "      <td>Back garden and front garden</td>\n",
       "      <td>58 m² (10,5 meter deep and 5,5 meter broad)</td>\n",
       "      <td>Attached brick storage</td>\n",
       "      <td>Public parking</td>\n",
       "      <td>In de gewilde,  jonge  en hippe  wijk Nesselan...</td>\n",
       "    </tr>\n",
       "  </tbody>\n",
       "</table>\n",
       "<p>1 rows × 34 columns</p>\n",
       "</div>"
      ],
      "text/plain": [
       "                          address           postcode neighbourhood  \\\n",
       "0  Laan van Magisch Realisme 15 B  3059 VJ Rotterdam    Nesselande   \n",
       "\n",
       "             Asking price Asking price per m²     Listed since     Status  \\\n",
       "0  € 495,000 kosten koper             € 3,613  October 6, 2022  Available   \n",
       "\n",
       "                  Acceptance                  Kind of house    Building type  \\\n",
       "0  Available in consultation  Single-family home, row house  Resale property   \n",
       "\n",
       "   ...                                         Insulation           Heating  \\\n",
       "0  ...  Roof insulation, double glazing, insulated wal...  District heating   \n",
       "\n",
       "          Hot water Ownership situation  \\\n",
       "0  Central facility      Full ownership   \n",
       "\n",
       "                                            Location  \\\n",
       "0  Alongside a quiet road and in residential dist...   \n",
       "\n",
       "                         Garden                                  Back garden  \\\n",
       "0  Back garden and front garden  58 m² (10,5 meter deep and 5,5 meter broad)   \n",
       "\n",
       "           Shed / storage Type of parking facilities  \\\n",
       "0  Attached brick storage             Public parking   \n",
       "\n",
       "                                         description  \n",
       "0  In de gewilde,  jonge  en hippe  wijk Nesselan...  \n",
       "\n",
       "[1 rows x 34 columns]"
      ]
     },
     "execution_count": 76,
     "metadata": {},
     "output_type": "execute_result"
    }
   ],
   "source": [
    "pd.DataFrame(data_dict, index=[0,])"
   ]
  },
  {
   "cell_type": "code",
   "execution_count": 109,
   "metadata": {},
   "outputs": [],
   "source": [
    "response_p = requests.request(\"GET\", url.format(144), headers=headers)"
   ]
  },
  {
   "cell_type": "code",
   "execution_count": 110,
   "metadata": {},
   "outputs": [],
   "source": [
    "soup_p = BeautifulSoup(response_p.text, 'lxml')"
   ]
  },
  {
   "cell_type": "code",
   "execution_count": 104,
   "metadata": {},
   "outputs": [
    {
     "ename": "KeyError",
     "evalue": "3",
     "output_type": "error",
     "traceback": [
      "\u001b[1;31m---------------------------------------------------------------------------\u001b[0m",
      "\u001b[1;31mKeyError\u001b[0m                                  Traceback (most recent call last)",
      "Cell \u001b[1;32mIn [104], line 1\u001b[0m\n\u001b[1;32m----> 1\u001b[0m data \u001b[38;5;241m=\u001b[39m json\u001b[38;5;241m.\u001b[39mloads(\u001b[43msoup_p\u001b[49m\u001b[38;5;241;43m.\u001b[39;49m\u001b[43mfind\u001b[49m\u001b[43m(\u001b[49m\u001b[38;5;124;43m'\u001b[39;49m\u001b[38;5;124;43mscript\u001b[39;49m\u001b[38;5;124;43m'\u001b[39;49m\u001b[43m,\u001b[49m\u001b[43m \u001b[49m\u001b[38;5;28;43mtype\u001b[39;49m\u001b[38;5;241;43m=\u001b[39;49m\u001b[38;5;124;43m'\u001b[39;49m\u001b[38;5;124;43mapplication/ld+json\u001b[39;49m\u001b[38;5;124;43m'\u001b[39;49m\u001b[43m)\u001b[49m\u001b[43m[\u001b[49m\u001b[38;5;241;43m3\u001b[39;49m\u001b[43m]\u001b[49m\u001b[38;5;241m.\u001b[39mtext)\n",
      "File \u001b[1;32mD:\\Users\\Fabio\\Anaconda3\\envs\\scrape_env\\lib\\site-packages\\bs4\\element.py:1519\u001b[0m, in \u001b[0;36mTag.__getitem__\u001b[1;34m(self, key)\u001b[0m\n\u001b[0;32m   1516\u001b[0m \u001b[38;5;28;01mdef\u001b[39;00m \u001b[38;5;21m__getitem__\u001b[39m(\u001b[38;5;28mself\u001b[39m, key):\n\u001b[0;32m   1517\u001b[0m     \u001b[38;5;124;03m\"\"\"tag[key] returns the value of the 'key' attribute for the Tag,\u001b[39;00m\n\u001b[0;32m   1518\u001b[0m \u001b[38;5;124;03m    and throws an exception if it's not there.\"\"\"\u001b[39;00m\n\u001b[1;32m-> 1519\u001b[0m     \u001b[38;5;28;01mreturn\u001b[39;00m \u001b[38;5;28;43mself\u001b[39;49m\u001b[38;5;241;43m.\u001b[39;49m\u001b[43mattrs\u001b[49m\u001b[43m[\u001b[49m\u001b[43mkey\u001b[49m\u001b[43m]\u001b[49m\n",
      "\u001b[1;31mKeyError\u001b[0m: 3"
     ]
    }
   ],
   "source": [
    " data = json.loads(soup_p.find('script', type='application/ld+json')[3].text)"
   ]
  },
  {
   "cell_type": "code",
   "execution_count": 111,
   "metadata": {},
   "outputs": [
    {
     "data": {
      "text/plain": [
       "<script type=\"application/ld+json\">\n",
       "    {\n",
       "    \"@context\": \"http://schema.org\",\n",
       "    \"@type\": [\"ItemList\", \"WebPage\"],\n",
       "    \"name\": \"Homes for sale Rotterdam - Houses for sale in Rotterdam [funda]\",\n",
       "    \"url\": \"https://www.funda.nl/en/koop/rotterdam/p3/\",\n",
       "    \"itemListOrder\": \"https://schema.org/ItemListUnordered\",\n",
       "    \"itemListElement\": [\n",
       "{ \"@type\": \"ListItem\", \"position\": \"1\", \"url\": \"https://www.funda.nl/en/koop/rotterdam/huis-42986313-bastaardklaver-1/\" },\n",
       "{ \"@type\": \"ListItem\", \"position\": \"2\", \"url\": \"https://www.funda.nl/en/koop/rotterdam/huis-42985191-vredehofweg-7/\" },\n",
       "{ \"@type\": \"ListItem\", \"position\": \"3\", \"url\": \"https://www.funda.nl/en/koop/rotterdam/huis-42985878-laan-van-magisch-realisme-15-b/\" },\n",
       "{ \"@type\": \"ListItem\", \"position\": \"4\", \"url\": \"https://www.funda.nl/en/koop/rotterdam/huis-42985756-oportohof-2/\" },\n",
       "{ \"@type\": \"ListItem\", \"position\": \"5\", \"url\": \"https://www.funda.nl/en/koop/rotterdam/huis-42974917-gw-burgerplein-15/\" },\n",
       "{ \"@type\": \"ListItem\", \"position\": \"6\", \"url\": \"https://www.funda.nl/en/koop/rotterdam/huis-42974418-laan-van-magisch-realisme-95/\" },\n",
       "{ \"@type\": \"ListItem\", \"position\": \"7\", \"url\": \"https://www.funda.nl/en/koop/rotterdam/huis-42973355-de-lugt-19-d/\" },\n",
       "{ \"@type\": \"ListItem\", \"position\": \"8\", \"url\": \"https://www.funda.nl/en/koop/rotterdam/huis-42973176-klaprooslaan-59/\" },\n",
       "{ \"@type\": \"ListItem\", \"position\": \"9\", \"url\": \"https://www.funda.nl/en/koop/rotterdam/huis-42973086-lisztlaan-50/\" },\n",
       "{ \"@type\": \"ListItem\", \"position\": \"10\", \"url\": \"https://www.funda.nl/en/koop/rotterdam/huis-42972098-evenaar-124/\" },\n",
       "{ \"@type\": \"ListItem\", \"position\": \"11\", \"url\": \"https://www.funda.nl/en/koop/rotterdam/huis-42971987-rijsbes-30/\" },\n",
       "{ \"@type\": \"ListItem\", \"position\": \"12\", \"url\": \"https://www.funda.nl/en/koop/rotterdam/huis-42979880-molenlaan-177/\" },\n",
       "{ \"@type\": \"ListItem\", \"position\": \"13\", \"url\": \"https://www.funda.nl/en/koop/rotterdam/huis-88332828-naardermeer-337/\" },\n",
       "{ \"@type\": \"ListItem\", \"position\": \"14\", \"url\": \"https://www.funda.nl/en/koop/rotterdam/huis-42978279-jos-colerstraat-20/\" },\n",
       "{ \"@type\": \"ListItem\", \"position\": \"15\", \"url\": \"https://www.funda.nl/en/koop/rotterdam/huis-42978472-peppelweg-156/\" }]\n",
       "    }\n",
       "</script>"
      ]
     },
     "execution_count": 111,
     "metadata": {},
     "output_type": "execute_result"
    }
   ],
   "source": [
    "soup_p.find_all('script', type='application/ld+json')[3]"
   ]
  },
  {
   "cell_type": "code",
   "execution_count": null,
   "metadata": {},
   "outputs": [],
   "source": []
  }
 ],
 "metadata": {
  "kernelspec": {
   "display_name": "Python 3 (ipykernel)",
   "language": "python",
   "name": "python3"
  },
  "language_info": {
   "codemirror_mode": {
    "name": "ipython",
    "version": 3
   },
   "file_extension": ".py",
   "mimetype": "text/x-python",
   "name": "python",
   "nbconvert_exporter": "python",
   "pygments_lexer": "ipython3",
   "version": "3.10.6"
  }
 },
 "nbformat": 4,
 "nbformat_minor": 4
}
