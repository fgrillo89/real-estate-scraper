{
 "cells": [
  {
   "cell_type": "code",
   "execution_count": 2,
   "id": "6b6cead0-c0b5-4c2a-a3ea-3813507ffeba",
   "metadata": {},
   "outputs": [],
   "source": [
    "#imports here\n",
    "from selenium import webdriver\n",
    "from selenium.webdriver.common.keys import Keys\n",
    "from selenium.webdriver.support import expected_conditions as EC\n",
    "from selenium.webdriver.common.by import By\n",
    "from selenium.webdriver.support.wait import WebDriverWait\n",
    "import time"
   ]
  },
  {
   "cell_type": "code",
   "execution_count": 24,
   "id": "eb48f052-ad01-44d0-a4e3-2a47c514aff4",
   "metadata": {},
   "outputs": [
    {
     "name": "stderr",
     "output_type": "stream",
     "text": [
      "[WDM] - Downloading: 100%|████████████████████████████████████████████████████████| 6.29M/6.29M [00:00<00:00, 10.0MB/s]\n"
     ]
    }
   ],
   "source": [
    "from selenium.webdriver.chrome.service import Service\n",
    "from webdriver_manager.chrome import ChromeDriverManager\n",
    "\n",
    "# driver = webdriver.Chrome(service=Service(ChromeDriverManager().install()))\n",
    "# driver.get(\"https://www.google.com\")"
   ]
  },
  {
   "cell_type": "code",
   "execution_count": 4,
   "id": "185bee49-2f0c-4fa1-8bcc-8e2c784ceb87",
   "metadata": {},
   "outputs": [],
   "source": [
    "from pathlib import Path"
   ]
  },
  {
   "cell_type": "code",
   "execution_count": 26,
   "id": "fe8ab5d7-16e1-4f8b-b0fa-be35a2659fe1",
   "metadata": {},
   "outputs": [],
   "source": [
    "driver_path = (Path.cwd() / 'chromedriver.exe').absolute()"
   ]
  },
  {
   "cell_type": "code",
   "execution_count": 49,
   "id": "6a12ee25-8d86-4082-862f-ea2764e1244e",
   "metadata": {},
   "outputs": [
    {
     "name": "stderr",
     "output_type": "stream",
     "text": [
      "D:\\Users\\Fabio\\Anaconda3\\lib\\site-packages\\ipykernel_launcher.py:2: DeprecationWarning: executable_path has been deprecated, please pass in a Service object\n",
      "  \n"
     ]
    }
   ],
   "source": [
    "#specify the path to chromedriver.exe (download and save on your computer)\n",
    "driver = webdriver.Chrome(f\"{driver_path}\")"
   ]
  },
  {
   "cell_type": "code",
   "execution_count": 47,
   "id": "5d30ec08-feec-440b-8f04-54b50227a80f",
   "metadata": {},
   "outputs": [],
   "source": [
    "url = \"https://www.pararius.nl/koopwoningen/rotterdam\""
   ]
  },
  {
   "cell_type": "code",
   "execution_count": 50,
   "id": "19c5fce4-6834-40ab-9410-7fcf47d0b6c9",
   "metadata": {},
   "outputs": [],
   "source": [
    "page = driver.get(url)"
   ]
  },
  {
   "cell_type": "code",
   "execution_count": 45,
   "id": "13714af9-3e9c-4ee2-a5a1-d54ef4653022",
   "metadata": {},
   "outputs": [
    {
     "data": {
      "text/plain": [
       "<selenium.webdriver.remote.webelement.WebElement (session=\"c2170cb1f6da7b8656545161a0d2ee14\", element=\"1d3fcb87-b5a5-422e-85ae-f8f74c31c892\")>"
      ]
     },
     "execution_count": 45,
     "metadata": {},
     "output_type": "execute_result"
    }
   ],
   "source": [
    "driver.find_element(By.ID, \"onetrust-accept-btn-handler\").send_keys()"
   ]
  },
  {
   "cell_type": "code",
   "execution_count": 46,
   "id": "8dba51bf-41f7-48db-b035-891dcaaa67f0",
   "metadata": {},
   "outputs": [],
   "source": [
    "WebDriverWait(driver, 10).until(EC.element_to_be_clickable((By.XPATH,'//*[@id=\"onetrust-accept-btn-handler\"]'))).click()"
   ]
  },
  {
   "cell_type": "code",
   "execution_count": null,
   "id": "6ef5a330-f5d5-4632-980e-9ec5ad5ed01b",
   "metadata": {},
   "outputs": [],
   "source": [
    "<button id=\"onetrust-accept-btn-handler\">Accepteer alle cookies</button>"
   ]
  },
  {
   "cell_type": "code",
   "execution_count": 51,
   "id": "b3e84c43-a0a0-4701-a70b-19fc021b872e",
   "metadata": {},
   "outputs": [],
   "source": [
    "html = driver.page_source"
   ]
  },
  {
   "cell_type": "code",
   "execution_count": 55,
   "id": "a91424e0-8bf2-413d-b09e-fa5cc0211594",
   "metadata": {},
   "outputs": [],
   "source": [
    "import asyncio\n",
    "from pyppeteer import launch\n",
    "\n",
    "async def main():\n",
    "    browser = await launch()\n",
    "    page = await browser.newPage()\n",
    "    await page.goto('http://example.com')\n",
    "    await page.screenshot({'path': 'example.png'})\n",
    "    await browser.close()\n",
    "\n",
    "await main()"
   ]
  },
  {
   "cell_type": "code",
   "execution_count": null,
   "id": "53365413-2b04-4c86-bb92-240121d0917e",
   "metadata": {},
   "outputs": [],
   "source": []
  }
 ],
 "metadata": {
  "kernelspec": {
   "display_name": "Python 3 (ipykernel)",
   "language": "python",
   "name": "python3"
  },
  "language_info": {
   "codemirror_mode": {
    "name": "ipython",
    "version": 3
   },
   "file_extension": ".py",
   "mimetype": "text/x-python",
   "name": "python",
   "nbconvert_exporter": "python",
   "pygments_lexer": "ipython3",
   "version": "3.7.13"
  }
 },
 "nbformat": 4,
 "nbformat_minor": 5
}
